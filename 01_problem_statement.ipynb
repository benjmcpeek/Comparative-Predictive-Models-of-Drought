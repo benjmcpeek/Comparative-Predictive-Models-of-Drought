{
 "cells": [
  {
   "cell_type": "markdown",
   "id": "bf8453d5-cd65-4cf0-8229-142a39586d1f",
   "metadata": {},
   "source": [
    "# Project 4: Comparative Predictive Models of Drought\n",
    "\n",
    "by Daniel Groneberg, Ben McPeek, and Joey Notaro"
   ]
  },
  {
   "cell_type": "markdown",
   "id": "ac3f3b5c-12bd-4755-b08d-bb085f51b16a",
   "metadata": {},
   "source": [
    "---\n",
    "\n",
    "## Notebook Summary\n",
    "\n",
    "This notebook explores the collective effort to build predictive machine learning models of drought. The reader will become acquainted with the imperative for enhanced drought warning models and the background information behind how different models have historically aimed to predict droughts. Included in this notebook, the reader will find:\n",
    "\n",
    "* Problem Statement\n",
    "* Models & Evaluation Metrics\n",
    "* Background Information\n",
    "* Notebook Conclusion"
   ]
  },
  {
   "cell_type": "markdown",
   "id": "16ae9515-a4c4-4165-aec6-8c3540fc47cd",
   "metadata": {},
   "source": [
    "---\n",
    "\n",
    "## Problem Statement\n",
    "\n",
    "The California Department of Water Resources has hired a team of data scientists to develop comparative machine learning models for predicting upcoming droughts. The effects of global climate change have made it increasingly challenging to predict when a drought may be looming on the horizon but all the more imperative as more extreme weather events occur with increasing frequency.\n",
    "\n",
    "The team of data scientists want to know:\n",
    "\n",
    "**Which predictive model is the best indicator** of whether a drought is likely to occur **given historical weather, climate, and satillite image data?** **Does one model perform better** than any other in predicting drought or drought-like conditions for the state of California to declare forecasts of droughts more accurately?\n",
    "\n",
    "The team of data scientists will use three different models, all employing different assumptions regarding risk of drought and all employing slightly different metrics to evaluate effectiveness. The team will then present its findings and make recommendations to the State Water Resources Board about how to best anticipate droughts for emergency preparedness."
   ]
  },
  {
   "cell_type": "markdown",
   "id": "d8fb45a4-8cad-491a-8137-c5690cecf221",
   "metadata": {},
   "source": [
    "---\n",
    "\n",
    "## Models & Evaluation Metrics\n",
    "\n",
    "The team of scientists developed three different models with three different evaluation metrics based on specific assumptions regarding the most current climate science.\n",
    "\n",
    "**Model 1** focuses on historical weather factors over time to predict the amount of precipitation to expect in the state of California. In this model, we will create a **time series neural network regression model**. This model assumes that the amount of precipitation is a good proxy for whether the state will experience a drought or not. Therefore, the predictions of precipitation may be used as a reasonable prediction of an impending drought as well. Since this is a regression model, this will also serve as a means to determine which weather and climator features have the greatest impact on precipitation over time and by proxy, drought conditions. This model will rely on an **evaluation metric of the Pearson correlation coefficient, R<sup>2</sup>**.\n",
    "    \n",
    "**Model 2** focuses on satellite image data of land areas affected by wildfires and those not affected by wildfire. In this model, we will create a **convolutional neural network binary classification model**. This model assumes that the image data of an area affected by wildfires is a good proxy for whether an area is drought-prone or not. Therefore, if we can gather satellite image data of different regions, we may use these images to make a reasonable prediction of an impending drought. This model will rely on an **evaluation metric of accuracy**.\n",
    "\n",
    "**Model 3** focuses on satellite image data over time showing vegetative coverage of land area, which combines elements of both the first and second models. In this model we will create a **time series neural network classification model** to predict droug. This model assumes that the normalized difference vegetative index (NDVI) captured in satellite images can act as a good proxy for how much an area is experience arid or wet conditions and predict drought as well. This model is distinguished from the second model in that it is reviewing images over a period of time, so we may be able to anticipate future droughts based on past and current changes in the landscape. This model will rely on an **evaluation metric of accuracy**."
   ]
  },
  {
   "cell_type": "markdown",
   "id": "d24f6105-2cb4-4a1e-958a-07bbdf4a8e06",
   "metadata": {},
   "source": [
    "---\n",
    "\n",
    "## Background Information\n",
    "\n",
    "Before collecting and cleaning our multiple data sources, we will explore some of the background on modeling drought and the imperative for these models.\n",
    "\n",
    "Drought prediction has historically relied on the accurate prediction of two main factors, precipitation and temperature. However, since climate is inherently variable, these factor maintain notoriously difficult to predict accurately [source](https://water.unl.edu/drought/droughtprediction#:~:text=Predicting%20drought%20depends%20on%20the,several%20months%20to%20several%20decades). While there are indices, such as the Standardized Precipitation Indices (SPI), which many climate scientists can agree are valuable tools in making three or six month predictions, the precise models used in arriving at the indices continue to be refined using an ensemble of models [source](https://cpo.noaa.gov/Divisions-Programs/Earth-System-Science-and-Modeling/Modeling-Analysis-Predictions-and-Projections-MAPP/MAPP-Task-Forces/Drought-Task-Force-I/How-Research-Is-Improving-How-We-Monitor-and-Predict-Drought/Drought-Prediction). In addition to the difficulty in predicting droughts with various models and indices, the U.S. Drought Monitor (USDM) also rates the severity of dryness and droughts across the U.S. at six increasing levels of intensity, so predictive modeling is not merely a simple matter of predicting whether there is or is not drought but also the likely severity and duration of a drought [source](https://droughtmonitor.unl.edu/). The image below represents one of the most current USDM drought maps depicting August 15, 2023:\n",
    "\n",
    "\n",
    "![drought map](./images/current_usdm.png)\n",
    "\n",
    "\n",
    "To make matters worse, global climate change is taking an already unpredictable modeling scenario and making it even more challenging to predict. Take just some of the more immediate impacts to California as an example. Higher average global temperatures result in more evaporation off land masses, drying out vegatation and soils [source](https://www.c2es.org/content/drought-and-climate-change/). These intensely dried conditions are part of the reason that this group of data scientists has chosen to model both wildfire image classification and soil moisture time series to predict drought. Although neither wildfire nor soil moisture can act as perfect features to predict drought we can see a somewhat sizeable overlap in these factors and drought. The map presented below shows active, large wildfires as of August 23, 2023 occuring in areas close to intense drought:\n",
    "\n",
    "\n",
    "![wildfire map](./images/wildfire_map.png)\n",
    "\n",
    "\n",
    "We believe that this multi-pronged approach to predict future precipitation, future soil moisture, and satellite images of land areas which can be classified as resembling a wildfire area may be among the forefront of machine learning models which give us better insight into future droughts."
   ]
  },
  {
   "cell_type": "markdown",
   "id": "e7601966-194d-4f0e-a9c3-e355bdf23c84",
   "metadata": {},
   "source": [
    "---\n",
    "\n",
    "## Notebook Conclusion\n",
    "\n",
    "In this notebook, we introduced the problem statement presented to a team of data scientists building predictive models of drought. We discussed the imperative behind why an ensemble of models may be necessary to find more refined ways to predict droughts in an increasingly unpredictable climate future.\n",
    "\n",
    "In Part 2, we begin exploring Model 1, the time series model to predict precipitation."
   ]
  }
 ],
 "metadata": {
  "kernelspec": {
   "display_name": "Python 3 (ipykernel)",
   "language": "python",
   "name": "python3"
  },
  "language_info": {
   "codemirror_mode": {
    "name": "ipython",
    "version": 3
   },
   "file_extension": ".py",
   "mimetype": "text/x-python",
   "name": "python",
   "nbconvert_exporter": "python",
   "pygments_lexer": "ipython3",
   "version": "3.8.16"
  }
 },
 "nbformat": 4,
 "nbformat_minor": 5
}
