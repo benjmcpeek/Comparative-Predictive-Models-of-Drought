{
 "cells": [
  {
   "cell_type": "markdown",
   "id": "bf8453d5-cd65-4cf0-8229-142a39586d1f",
   "metadata": {},
   "source": [
    "# Project 4: Comparative Predictive Models of Drought\n",
    "\n",
    "by Daniel Groneberg, Ben McPeek, and Joey Notaro"
   ]
  },
  {
   "cell_type": "markdown",
   "id": "ac3f3b5c-12bd-4755-b08d-bb085f51b16a",
   "metadata": {},
   "source": [
    "---\n",
    "\n",
    "This notebook explores a collective effort to build predictive machine learning models of drought. The reader will become acquainted with the imperative for enhanced drought warning models and the background information behind how different models have historically aimed to predict droughts. Included in this notebook, the reader will find:\n",
    "\n",
    "* Problem Statement\n",
    "* Target Metrics for Models\n",
    "* Background Information\n",
    "* Notebook Conclusion"
   ]
  },
  {
   "cell_type": "code",
   "execution_count": null,
   "id": "cca97396-d129-4861-825e-420455fa6b25",
   "metadata": {},
   "outputs": [],
   "source": []
  }
 ],
 "metadata": {
  "kernelspec": {
   "display_name": "Python [conda env:dsi] *",
   "language": "python",
   "name": "conda-env-dsi-py"
  },
  "language_info": {
   "codemirror_mode": {
    "name": "ipython",
    "version": 3
   },
   "file_extension": ".py",
   "mimetype": "text/x-python",
   "name": "python",
   "nbconvert_exporter": "python",
   "pygments_lexer": "ipython3",
   "version": "3.8.16"
  }
 },
 "nbformat": 4,
 "nbformat_minor": 5
}
