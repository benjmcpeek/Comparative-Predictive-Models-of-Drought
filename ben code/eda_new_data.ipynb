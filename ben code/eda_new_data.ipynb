{
 "cells": [
  {
   "cell_type": "code",
   "execution_count": 2,
   "id": "6806ad68-a14d-4a8d-9444-aa8ef92567ad",
   "metadata": {
    "tags": []
   },
   "outputs": [],
   "source": [
    "import pandas as pd\n",
    "import numpy as np \n",
    "import matplotlib.pyplot as plt "
   ]
  },
  {
   "cell_type": "code",
   "execution_count": 3,
   "id": "c42b4d59-92c0-4b29-b35f-fb8b0f38cc47",
   "metadata": {
    "tags": []
   },
   "outputs": [],
   "source": [
    "us = pd.read_csv('../data/United States  1971-01-01 to 1991-01-01.csv')"
   ]
  },
  {
   "cell_type": "code",
   "execution_count": 4,
   "id": "6f131007-7f48-4640-9fa8-5fc2220f8e80",
   "metadata": {
    "tags": []
   },
   "outputs": [
    {
     "data": {
      "text/plain": [
       "(7306, 33)"
      ]
     },
     "execution_count": 4,
     "metadata": {},
     "output_type": "execute_result"
    }
   ],
   "source": [
    "us.shape"
   ]
  },
  {
   "cell_type": "code",
   "execution_count": 5,
   "id": "583a7831-ebd5-4828-b221-68309ec31e5c",
   "metadata": {},
   "outputs": [],
   "source": [
    "col = pd.read_csv('../data/Colorado 2000-06-17 to 2022-06-17.csv')\n",
    "col_nine = pd.read_csv('../data/col_1990s.csv')"
   ]
  },
  {
   "cell_type": "code",
   "execution_count": 6,
   "id": "62f0574e-2add-4e9e-baae-a4d4a15f7f1e",
   "metadata": {
    "tags": []
   },
   "outputs": [
    {
     "data": {
      "text/plain": [
       "(3257, 33)"
      ]
     },
     "execution_count": 6,
     "metadata": {},
     "output_type": "execute_result"
    }
   ],
   "source": [
    "col_nine.shape"
   ]
  },
  {
   "cell_type": "code",
   "execution_count": 7,
   "id": "b3a70ea3-94c8-4506-bffa-0e6c83a9451d",
   "metadata": {
    "tags": []
   },
   "outputs": [
    {
     "data": {
      "text/plain": [
       "(8036, 33)"
      ]
     },
     "execution_count": 7,
     "metadata": {},
     "output_type": "execute_result"
    }
   ],
   "source": [
    "col.shape"
   ]
  },
  {
   "cell_type": "code",
   "execution_count": 8,
   "id": "e29b3196-77f3-403e-8b27-b5b5d6354cf8",
   "metadata": {
    "tags": []
   },
   "outputs": [
    {
     "data": {
      "text/plain": [
       "(18599, 33)"
      ]
     },
     "execution_count": 8,
     "metadata": {},
     "output_type": "execute_result"
    }
   ],
   "source": [
    "df = pd.concat([col, col_nine, us])\n",
    "df.shape"
   ]
  },
  {
   "cell_type": "code",
   "execution_count": 9,
   "id": "2ce1d6e1-8f8d-4801-aa3b-f4752e14eef5",
   "metadata": {
    "tags": []
   },
   "outputs": [
    {
     "data": {
      "text/plain": [
       "Index(['name', 'datetime', 'tempmax', 'tempmin', 'temp', 'feelslikemax',\n",
       "       'feelslikemin', 'feelslike', 'dew', 'humidity', 'precip', 'precipprob',\n",
       "       'precipcover', 'preciptype', 'snow', 'snowdepth', 'windgust',\n",
       "       'windspeed', 'winddir', 'sealevelpressure', 'cloudcover', 'visibility',\n",
       "       'solarradiation', 'solarenergy', 'uvindex', 'severerisk', 'sunrise',\n",
       "       'sunset', 'moonphase', 'conditions', 'description', 'icon', 'stations'],\n",
       "      dtype='object')"
      ]
     },
     "execution_count": 9,
     "metadata": {},
     "output_type": "execute_result"
    }
   ],
   "source": [
    "df.columns"
   ]
  },
  {
   "cell_type": "code",
   "execution_count": 10,
   "id": "479f436f-e3f6-4744-bd27-e4bef1590673",
   "metadata": {
    "tags": []
   },
   "outputs": [
    {
     "data": {
      "text/plain": [
       "name                 object\n",
       "datetime             object\n",
       "tempmax             float64\n",
       "tempmin             float64\n",
       "temp                float64\n",
       "feelslikemax        float64\n",
       "feelslikemin        float64\n",
       "feelslike           float64\n",
       "dew                 float64\n",
       "humidity            float64\n",
       "precip              float64\n",
       "precipprob            int64\n",
       "precipcover         float64\n",
       "preciptype           object\n",
       "snow                float64\n",
       "snowdepth           float64\n",
       "windgust            float64\n",
       "windspeed           float64\n",
       "winddir             float64\n",
       "sealevelpressure    float64\n",
       "cloudcover          float64\n",
       "visibility          float64\n",
       "solarradiation      float64\n",
       "solarenergy         float64\n",
       "uvindex             float64\n",
       "severerisk          float64\n",
       "sunrise              object\n",
       "sunset               object\n",
       "moonphase           float64\n",
       "conditions           object\n",
       "description          object\n",
       "icon                 object\n",
       "stations             object\n",
       "dtype: object"
      ]
     },
     "execution_count": 10,
     "metadata": {},
     "output_type": "execute_result"
    }
   ],
   "source": [
    "df.dtypes"
   ]
  },
  {
   "cell_type": "code",
   "execution_count": 11,
   "id": "fda45a90-cd48-419f-8e83-8c1a164a839f",
   "metadata": {
    "tags": []
   },
   "outputs": [
    {
     "data": {
      "text/plain": [
       "preciptype        11930\n",
       "snow              10563\n",
       "snowdepth          8312\n",
       "windgust          14064\n",
       "solarradiation    14047\n",
       "solarenergy       14047\n",
       "uvindex           14047\n",
       "severerisk        18440\n",
       "dtype: int64"
      ]
     },
     "execution_count": 11,
     "metadata": {},
     "output_type": "execute_result"
    }
   ],
   "source": [
    "df.isnull().sum()[lambda x: x > 0]"
   ]
  },
  {
   "cell_type": "markdown",
   "id": "e3607656-12c0-4d52-8a67-c1b881bd3ad0",
   "metadata": {},
   "source": [
    "## Investigate 'snow' and 'snowdepth' for data imputing after first model"
   ]
  },
  {
   "cell_type": "code",
   "execution_count": 12,
   "id": "bbf6f064-ce25-4510-a77a-ec81c40c3240",
   "metadata": {
    "tags": []
   },
   "outputs": [
    {
     "data": {
      "text/plain": [
       "preciptype\n",
       "rain         4947\n",
       "rain,snow    1018\n",
       "snow          704\n",
       "Name: count, dtype: int64"
      ]
     },
     "execution_count": 12,
     "metadata": {},
     "output_type": "execute_result"
    }
   ],
   "source": [
    "df['preciptype'].value_counts()"
   ]
  },
  {
   "cell_type": "code",
   "execution_count": 13,
   "id": "6238d4c6-7b6e-4920-bbdb-11ffaec9c4fa",
   "metadata": {
    "tags": []
   },
   "outputs": [
    {
     "data": {
      "text/plain": [
       "preciptype  precip\n",
       "rain        0.001       241\n",
       "            0.004       138\n",
       "            0.002       137\n",
       "            0.012       129\n",
       "            0.003       103\n",
       "                      ...  \n",
       "snow        0.236         1\n",
       "            0.238         1\n",
       "            0.239         1\n",
       "            0.347         1\n",
       "NaN         0.000     11930\n",
       "Name: count, Length: 1567, dtype: int64"
      ]
     },
     "execution_count": 13,
     "metadata": {},
     "output_type": "execute_result"
    }
   ],
   "source": [
    "df.groupby(by = 'preciptype', dropna = False)['precip'].value_counts()"
   ]
  },
  {
   "cell_type": "markdown",
   "id": "641498ea-33cc-4269-bb49-b70a359adca9",
   "metadata": {},
   "source": [
    "#### As we can see, every missing value in 'perciptype' has a precipitation of 0.0. We will identify these as 'neither', as in neither rain or snow. "
   ]
  },
  {
   "cell_type": "code",
   "execution_count": 14,
   "id": "3bb7f153-807a-4d9b-9e72-478244b10a4b",
   "metadata": {
    "tags": []
   },
   "outputs": [],
   "source": [
    "df['preciptype'].fillna('neither', inplace=True)"
   ]
  },
  {
   "cell_type": "code",
   "execution_count": 15,
   "id": "62628396-4ad0-4035-8764-bc5969d1ea3f",
   "metadata": {
    "tags": []
   },
   "outputs": [
    {
     "data": {
      "text/plain": [
       "preciptype\n",
       "neither      11930\n",
       "rain          4947\n",
       "rain,snow     1018\n",
       "snow           704\n",
       "Name: count, dtype: int64"
      ]
     },
     "execution_count": 15,
     "metadata": {},
     "output_type": "execute_result"
    }
   ],
   "source": [
    "df['preciptype'].value_counts()"
   ]
  },
  {
   "cell_type": "code",
   "execution_count": 16,
   "id": "b8809ca7-74a3-4a33-bae5-1b11bb9bee6e",
   "metadata": {
    "tags": []
   },
   "outputs": [
    {
     "data": {
      "text/plain": [
       "3719.8"
      ]
     },
     "execution_count": 16,
     "metadata": {},
     "output_type": "execute_result"
    }
   ],
   "source": [
    "len(df) / 5"
   ]
  },
  {
   "cell_type": "code",
   "execution_count": 17,
   "id": "bd1811ad-0fce-4cad-ba50-6462f7baba86",
   "metadata": {
    "tags": []
   },
   "outputs": [
    {
     "data": {
      "text/plain": [
       "array(['rain', 'neither', 'rain,snow', 'snow'], dtype=object)"
      ]
     },
     "execution_count": 17,
     "metadata": {},
     "output_type": "execute_result"
    }
   ],
   "source": [
    "df['preciptype'].unique()"
   ]
  },
  {
   "cell_type": "markdown",
   "id": "3e6aec0c-e252-4b2e-91e5-ad5b5c431d9d",
   "metadata": {},
   "source": [
    "## Removing Columns with more than half missing values\n",
    "- The data dictionary for this dataset mentions that all missing values cannot be replaced with 0's because 0 is a measurement that is used often in this dataset\n",
    "- Besides 'perciptype' all other columns that have a majority of missing data are floats or integers, making filling those values dangerous to do. "
   ]
  },
  {
   "cell_type": "code",
   "execution_count": 18,
   "id": "abf6907c-b085-44b5-8a91-cb4e595a38e5",
   "metadata": {
    "tags": []
   },
   "outputs": [],
   "source": [
    "col_drop = [i for i in df.columns if df[i].isnull().sum() > (len(df) / 5)]"
   ]
  },
  {
   "cell_type": "code",
   "execution_count": 19,
   "id": "f38a0175-d61d-4867-a4ce-78a6efc55e16",
   "metadata": {
    "tags": []
   },
   "outputs": [
    {
     "data": {
      "text/plain": [
       "['snow',\n",
       " 'snowdepth',\n",
       " 'windgust',\n",
       " 'solarradiation',\n",
       " 'solarenergy',\n",
       " 'uvindex',\n",
       " 'severerisk']"
      ]
     },
     "execution_count": 19,
     "metadata": {},
     "output_type": "execute_result"
    }
   ],
   "source": [
    "col_drop"
   ]
  },
  {
   "cell_type": "code",
   "execution_count": 20,
   "id": "513598bc-4d6f-4001-b1f4-c97dbfd10a8b",
   "metadata": {
    "tags": []
   },
   "outputs": [],
   "source": [
    "df.drop(columns = col_drop, inplace = True)"
   ]
  },
  {
   "cell_type": "code",
   "execution_count": 21,
   "id": "85fdb709-1ebb-4b1e-9693-1b97508b7d54",
   "metadata": {
    "tags": []
   },
   "outputs": [
    {
     "data": {
      "text/plain": [
       "name                0\n",
       "datetime            0\n",
       "tempmax             0\n",
       "tempmin             0\n",
       "temp                0\n",
       "feelslikemax        0\n",
       "feelslikemin        0\n",
       "feelslike           0\n",
       "dew                 0\n",
       "humidity            0\n",
       "precip              0\n",
       "precipprob          0\n",
       "precipcover         0\n",
       "preciptype          0\n",
       "windspeed           0\n",
       "winddir             0\n",
       "sealevelpressure    0\n",
       "cloudcover          0\n",
       "visibility          0\n",
       "sunrise             0\n",
       "sunset              0\n",
       "moonphase           0\n",
       "conditions          0\n",
       "description         0\n",
       "icon                0\n",
       "stations            0\n",
       "dtype: int64"
      ]
     },
     "execution_count": 21,
     "metadata": {},
     "output_type": "execute_result"
    }
   ],
   "source": [
    "df.isnull().sum()"
   ]
  },
  {
   "cell_type": "markdown",
   "id": "8b4e40f3-4411-4ad2-95f7-ad700b31fde9",
   "metadata": {
    "tags": []
   },
   "source": [
    "## Convert and index Date Column "
   ]
  },
  {
   "cell_type": "code",
   "execution_count": 22,
   "id": "03f67efb-d62d-41c6-83e3-f96f8020594e",
   "metadata": {},
   "outputs": [],
   "source": [
    "df['datetime'] = pd.to_datetime(df['datetime'])"
   ]
  },
  {
   "cell_type": "code",
   "execution_count": 23,
   "id": "9af395d7-9f01-42b8-8167-848498e1b4cb",
   "metadata": {},
   "outputs": [
    {
     "data": {
      "text/html": [
       "<div>\n",
       "<style scoped>\n",
       "    .dataframe tbody tr th:only-of-type {\n",
       "        vertical-align: middle;\n",
       "    }\n",
       "\n",
       "    .dataframe tbody tr th {\n",
       "        vertical-align: top;\n",
       "    }\n",
       "\n",
       "    .dataframe thead th {\n",
       "        text-align: right;\n",
       "    }\n",
       "</style>\n",
       "<table border=\"1\" class=\"dataframe\">\n",
       "  <thead>\n",
       "    <tr style=\"text-align: right;\">\n",
       "      <th></th>\n",
       "      <th>name</th>\n",
       "      <th>tempmax</th>\n",
       "      <th>tempmin</th>\n",
       "      <th>temp</th>\n",
       "      <th>feelslikemax</th>\n",
       "      <th>feelslikemin</th>\n",
       "      <th>feelslike</th>\n",
       "      <th>dew</th>\n",
       "      <th>humidity</th>\n",
       "      <th>precip</th>\n",
       "      <th>...</th>\n",
       "      <th>sealevelpressure</th>\n",
       "      <th>cloudcover</th>\n",
       "      <th>visibility</th>\n",
       "      <th>sunrise</th>\n",
       "      <th>sunset</th>\n",
       "      <th>moonphase</th>\n",
       "      <th>conditions</th>\n",
       "      <th>description</th>\n",
       "      <th>icon</th>\n",
       "      <th>stations</th>\n",
       "    </tr>\n",
       "    <tr>\n",
       "      <th>datetime</th>\n",
       "      <th></th>\n",
       "      <th></th>\n",
       "      <th></th>\n",
       "      <th></th>\n",
       "      <th></th>\n",
       "      <th></th>\n",
       "      <th></th>\n",
       "      <th></th>\n",
       "      <th></th>\n",
       "      <th></th>\n",
       "      <th></th>\n",
       "      <th></th>\n",
       "      <th></th>\n",
       "      <th></th>\n",
       "      <th></th>\n",
       "      <th></th>\n",
       "      <th></th>\n",
       "      <th></th>\n",
       "      <th></th>\n",
       "      <th></th>\n",
       "      <th></th>\n",
       "    </tr>\n",
       "  </thead>\n",
       "  <tbody>\n",
       "    <tr>\n",
       "      <th>1971-01-01</th>\n",
       "      <td>United States</td>\n",
       "      <td>33.6</td>\n",
       "      <td>25.6</td>\n",
       "      <td>30.2</td>\n",
       "      <td>25.0</td>\n",
       "      <td>15.1</td>\n",
       "      <td>19.6</td>\n",
       "      <td>22.8</td>\n",
       "      <td>73.8</td>\n",
       "      <td>0.460</td>\n",
       "      <td>...</td>\n",
       "      <td>1007.2</td>\n",
       "      <td>69.6</td>\n",
       "      <td>4.6</td>\n",
       "      <td>1971-01-01T07:26:54</td>\n",
       "      <td>1971-01-01T16:56:27</td>\n",
       "      <td>0.15</td>\n",
       "      <td>Snow, Rain, Partially cloudy</td>\n",
       "      <td>Partly cloudy throughout the day with rain or ...</td>\n",
       "      <td>rain</td>\n",
       "      <td>72403793728,74594013705</td>\n",
       "    </tr>\n",
       "    <tr>\n",
       "      <th>1971-01-02</th>\n",
       "      <td>United States</td>\n",
       "      <td>38.6</td>\n",
       "      <td>21.3</td>\n",
       "      <td>29.9</td>\n",
       "      <td>38.6</td>\n",
       "      <td>14.7</td>\n",
       "      <td>27.2</td>\n",
       "      <td>19.8</td>\n",
       "      <td>66.2</td>\n",
       "      <td>0.000</td>\n",
       "      <td>...</td>\n",
       "      <td>1021.2</td>\n",
       "      <td>64.9</td>\n",
       "      <td>6.8</td>\n",
       "      <td>1971-01-02T07:27:02</td>\n",
       "      <td>1971-01-02T16:57:15</td>\n",
       "      <td>0.19</td>\n",
       "      <td>Partially cloudy</td>\n",
       "      <td>Partly cloudy throughout the day.</td>\n",
       "      <td>partly-cloudy-day</td>\n",
       "      <td>72403793728,74594013705</td>\n",
       "    </tr>\n",
       "    <tr>\n",
       "      <th>1971-01-03</th>\n",
       "      <td>United States</td>\n",
       "      <td>38.3</td>\n",
       "      <td>21.3</td>\n",
       "      <td>29.5</td>\n",
       "      <td>38.3</td>\n",
       "      <td>21.3</td>\n",
       "      <td>28.6</td>\n",
       "      <td>22.7</td>\n",
       "      <td>76.3</td>\n",
       "      <td>0.000</td>\n",
       "      <td>...</td>\n",
       "      <td>1026.3</td>\n",
       "      <td>33.7</td>\n",
       "      <td>6.4</td>\n",
       "      <td>1971-01-03T07:27:09</td>\n",
       "      <td>1971-01-03T16:58:06</td>\n",
       "      <td>0.25</td>\n",
       "      <td>Partially cloudy</td>\n",
       "      <td>Partly cloudy throughout the day.</td>\n",
       "      <td>partly-cloudy-day</td>\n",
       "      <td>72403793728,74594013705</td>\n",
       "    </tr>\n",
       "    <tr>\n",
       "      <th>1971-01-04</th>\n",
       "      <td>United States</td>\n",
       "      <td>41.0</td>\n",
       "      <td>30.6</td>\n",
       "      <td>35.9</td>\n",
       "      <td>41.0</td>\n",
       "      <td>27.2</td>\n",
       "      <td>34.3</td>\n",
       "      <td>33.3</td>\n",
       "      <td>90.1</td>\n",
       "      <td>0.800</td>\n",
       "      <td>...</td>\n",
       "      <td>1018.1</td>\n",
       "      <td>99.7</td>\n",
       "      <td>1.7</td>\n",
       "      <td>1971-01-04T07:27:12</td>\n",
       "      <td>1971-01-04T16:58:58</td>\n",
       "      <td>0.26</td>\n",
       "      <td>Snow, Rain, Overcast</td>\n",
       "      <td>Cloudy skies throughout the day with a chance ...</td>\n",
       "      <td>rain</td>\n",
       "      <td>72403793728,74594013705</td>\n",
       "    </tr>\n",
       "    <tr>\n",
       "      <th>1971-01-05</th>\n",
       "      <td>United States</td>\n",
       "      <td>44.5</td>\n",
       "      <td>34.3</td>\n",
       "      <td>40.3</td>\n",
       "      <td>41.5</td>\n",
       "      <td>27.2</td>\n",
       "      <td>34.7</td>\n",
       "      <td>30.8</td>\n",
       "      <td>69.7</td>\n",
       "      <td>0.306</td>\n",
       "      <td>...</td>\n",
       "      <td>1014.6</td>\n",
       "      <td>97.0</td>\n",
       "      <td>5.1</td>\n",
       "      <td>1971-01-05T07:27:14</td>\n",
       "      <td>1971-01-05T16:59:51</td>\n",
       "      <td>0.29</td>\n",
       "      <td>Rain, Overcast</td>\n",
       "      <td>Cloudy skies throughout the day with rain clea...</td>\n",
       "      <td>rain</td>\n",
       "      <td>72403793728,74594013705</td>\n",
       "    </tr>\n",
       "  </tbody>\n",
       "</table>\n",
       "<p>5 rows × 25 columns</p>\n",
       "</div>"
      ],
      "text/plain": [
       "                      name  tempmax  tempmin  temp  feelslikemax  \\\n",
       "datetime                                                           \n",
       "1971-01-01  United States      33.6     25.6  30.2          25.0   \n",
       "1971-01-02  United States      38.6     21.3  29.9          38.6   \n",
       "1971-01-03  United States      38.3     21.3  29.5          38.3   \n",
       "1971-01-04  United States      41.0     30.6  35.9          41.0   \n",
       "1971-01-05  United States      44.5     34.3  40.3          41.5   \n",
       "\n",
       "            feelslikemin  feelslike   dew  humidity  precip  ...  \\\n",
       "datetime                                                     ...   \n",
       "1971-01-01          15.1       19.6  22.8      73.8   0.460  ...   \n",
       "1971-01-02          14.7       27.2  19.8      66.2   0.000  ...   \n",
       "1971-01-03          21.3       28.6  22.7      76.3   0.000  ...   \n",
       "1971-01-04          27.2       34.3  33.3      90.1   0.800  ...   \n",
       "1971-01-05          27.2       34.7  30.8      69.7   0.306  ...   \n",
       "\n",
       "            sealevelpressure  cloudcover visibility              sunrise  \\\n",
       "datetime                                                                   \n",
       "1971-01-01            1007.2        69.6        4.6  1971-01-01T07:26:54   \n",
       "1971-01-02            1021.2        64.9        6.8  1971-01-02T07:27:02   \n",
       "1971-01-03            1026.3        33.7        6.4  1971-01-03T07:27:09   \n",
       "1971-01-04            1018.1        99.7        1.7  1971-01-04T07:27:12   \n",
       "1971-01-05            1014.6        97.0        5.1  1971-01-05T07:27:14   \n",
       "\n",
       "                         sunset  moonphase                    conditions  \\\n",
       "datetime                                                                   \n",
       "1971-01-01  1971-01-01T16:56:27       0.15  Snow, Rain, Partially cloudy   \n",
       "1971-01-02  1971-01-02T16:57:15       0.19              Partially cloudy   \n",
       "1971-01-03  1971-01-03T16:58:06       0.25              Partially cloudy   \n",
       "1971-01-04  1971-01-04T16:58:58       0.26          Snow, Rain, Overcast   \n",
       "1971-01-05  1971-01-05T16:59:51       0.29                Rain, Overcast   \n",
       "\n",
       "                                                  description  \\\n",
       "datetime                                                        \n",
       "1971-01-01  Partly cloudy throughout the day with rain or ...   \n",
       "1971-01-02                  Partly cloudy throughout the day.   \n",
       "1971-01-03                  Partly cloudy throughout the day.   \n",
       "1971-01-04  Cloudy skies throughout the day with a chance ...   \n",
       "1971-01-05  Cloudy skies throughout the day with rain clea...   \n",
       "\n",
       "                         icon                 stations  \n",
       "datetime                                                \n",
       "1971-01-01               rain  72403793728,74594013705  \n",
       "1971-01-02  partly-cloudy-day  72403793728,74594013705  \n",
       "1971-01-03  partly-cloudy-day  72403793728,74594013705  \n",
       "1971-01-04               rain  72403793728,74594013705  \n",
       "1971-01-05               rain  72403793728,74594013705  \n",
       "\n",
       "[5 rows x 25 columns]"
      ]
     },
     "execution_count": 23,
     "metadata": {},
     "output_type": "execute_result"
    }
   ],
   "source": [
    "df.set_index('datetime', inplace=True)\n",
    "df.sort_index(inplace=True)\n",
    "df.head()"
   ]
  },
  {
   "cell_type": "code",
   "execution_count": 24,
   "id": "9d42141b-2287-4240-9d07-4969393e6f5a",
   "metadata": {
    "tags": []
   },
   "outputs": [
    {
     "data": {
      "text/html": [
       "<div>\n",
       "<style scoped>\n",
       "    .dataframe tbody tr th:only-of-type {\n",
       "        vertical-align: middle;\n",
       "    }\n",
       "\n",
       "    .dataframe tbody tr th {\n",
       "        vertical-align: top;\n",
       "    }\n",
       "\n",
       "    .dataframe thead th {\n",
       "        text-align: right;\n",
       "    }\n",
       "</style>\n",
       "<table border=\"1\" class=\"dataframe\">\n",
       "  <thead>\n",
       "    <tr style=\"text-align: right;\">\n",
       "      <th></th>\n",
       "      <th>name</th>\n",
       "      <th>tempmax</th>\n",
       "      <th>tempmin</th>\n",
       "      <th>temp</th>\n",
       "      <th>feelslikemax</th>\n",
       "      <th>feelslikemin</th>\n",
       "      <th>feelslike</th>\n",
       "      <th>dew</th>\n",
       "      <th>humidity</th>\n",
       "      <th>precip</th>\n",
       "      <th>...</th>\n",
       "      <th>sealevelpressure</th>\n",
       "      <th>cloudcover</th>\n",
       "      <th>visibility</th>\n",
       "      <th>sunrise</th>\n",
       "      <th>sunset</th>\n",
       "      <th>moonphase</th>\n",
       "      <th>conditions</th>\n",
       "      <th>description</th>\n",
       "      <th>icon</th>\n",
       "      <th>stations</th>\n",
       "    </tr>\n",
       "    <tr>\n",
       "      <th>datetime</th>\n",
       "      <th></th>\n",
       "      <th></th>\n",
       "      <th></th>\n",
       "      <th></th>\n",
       "      <th></th>\n",
       "      <th></th>\n",
       "      <th></th>\n",
       "      <th></th>\n",
       "      <th></th>\n",
       "      <th></th>\n",
       "      <th></th>\n",
       "      <th></th>\n",
       "      <th></th>\n",
       "      <th></th>\n",
       "      <th></th>\n",
       "      <th></th>\n",
       "      <th></th>\n",
       "      <th></th>\n",
       "      <th></th>\n",
       "      <th></th>\n",
       "      <th></th>\n",
       "    </tr>\n",
       "  </thead>\n",
       "  <tbody>\n",
       "    <tr>\n",
       "      <th>2022-06-13</th>\n",
       "      <td>Colorado</td>\n",
       "      <td>95.7</td>\n",
       "      <td>65.5</td>\n",
       "      <td>81.4</td>\n",
       "      <td>90.7</td>\n",
       "      <td>65.5</td>\n",
       "      <td>79.1</td>\n",
       "      <td>27.1</td>\n",
       "      <td>15.8</td>\n",
       "      <td>0.0</td>\n",
       "      <td>...</td>\n",
       "      <td>996.2</td>\n",
       "      <td>27.1</td>\n",
       "      <td>9.8</td>\n",
       "      <td>2022-06-13T05:31:28</td>\n",
       "      <td>2022-06-13T20:28:57</td>\n",
       "      <td>0.48</td>\n",
       "      <td>Partially cloudy</td>\n",
       "      <td>Partly cloudy throughout the day.</td>\n",
       "      <td>partly-cloudy-day</td>\n",
       "      <td>KBKF,KDEN,72469523036,KAPA,72565003017,C7015,A...</td>\n",
       "    </tr>\n",
       "    <tr>\n",
       "      <th>2022-06-14</th>\n",
       "      <td>Colorado</td>\n",
       "      <td>83.7</td>\n",
       "      <td>52.0</td>\n",
       "      <td>67.2</td>\n",
       "      <td>81.0</td>\n",
       "      <td>52.0</td>\n",
       "      <td>66.8</td>\n",
       "      <td>37.4</td>\n",
       "      <td>36.0</td>\n",
       "      <td>0.0</td>\n",
       "      <td>...</td>\n",
       "      <td>1003.2</td>\n",
       "      <td>37.4</td>\n",
       "      <td>9.9</td>\n",
       "      <td>2022-06-14T05:31:28</td>\n",
       "      <td>2022-06-14T20:29:22</td>\n",
       "      <td>0.50</td>\n",
       "      <td>Partially cloudy</td>\n",
       "      <td>Partly cloudy throughout the day.</td>\n",
       "      <td>partly-cloudy-day</td>\n",
       "      <td>KBKF,KDEN,72469523036,KAPA,72565003017,C7015,A...</td>\n",
       "    </tr>\n",
       "    <tr>\n",
       "      <th>2022-06-15</th>\n",
       "      <td>Colorado</td>\n",
       "      <td>86.1</td>\n",
       "      <td>48.3</td>\n",
       "      <td>68.3</td>\n",
       "      <td>82.8</td>\n",
       "      <td>43.3</td>\n",
       "      <td>67.4</td>\n",
       "      <td>30.2</td>\n",
       "      <td>32.5</td>\n",
       "      <td>0.0</td>\n",
       "      <td>...</td>\n",
       "      <td>1009.9</td>\n",
       "      <td>7.5</td>\n",
       "      <td>9.9</td>\n",
       "      <td>2022-06-15T05:31:29</td>\n",
       "      <td>2022-06-15T20:29:45</td>\n",
       "      <td>0.54</td>\n",
       "      <td>Clear</td>\n",
       "      <td>Clear conditions throughout the day.</td>\n",
       "      <td>clear-day</td>\n",
       "      <td>KBKF,KDEN,72469523036,KAPA,72565003017,C7015,A...</td>\n",
       "    </tr>\n",
       "    <tr>\n",
       "      <th>2022-06-16</th>\n",
       "      <td>Colorado</td>\n",
       "      <td>92.8</td>\n",
       "      <td>54.1</td>\n",
       "      <td>74.6</td>\n",
       "      <td>88.8</td>\n",
       "      <td>54.1</td>\n",
       "      <td>73.2</td>\n",
       "      <td>40.0</td>\n",
       "      <td>31.2</td>\n",
       "      <td>0.0</td>\n",
       "      <td>...</td>\n",
       "      <td>1013.3</td>\n",
       "      <td>17.8</td>\n",
       "      <td>9.9</td>\n",
       "      <td>2022-06-16T05:31:33</td>\n",
       "      <td>2022-06-16T20:30:06</td>\n",
       "      <td>0.58</td>\n",
       "      <td>Clear</td>\n",
       "      <td>Clear conditions throughout the day.</td>\n",
       "      <td>clear-day</td>\n",
       "      <td>KBKF,KDEN,72469523036,KAPA,72565003017,C7015,A...</td>\n",
       "    </tr>\n",
       "    <tr>\n",
       "      <th>2022-06-17</th>\n",
       "      <td>Colorado</td>\n",
       "      <td>95.2</td>\n",
       "      <td>59.5</td>\n",
       "      <td>77.5</td>\n",
       "      <td>90.4</td>\n",
       "      <td>59.5</td>\n",
       "      <td>76.0</td>\n",
       "      <td>47.5</td>\n",
       "      <td>43.5</td>\n",
       "      <td>0.0</td>\n",
       "      <td>...</td>\n",
       "      <td>1010.1</td>\n",
       "      <td>56.5</td>\n",
       "      <td>9.9</td>\n",
       "      <td>2022-06-17T05:31:38</td>\n",
       "      <td>2022-06-17T20:30:26</td>\n",
       "      <td>0.61</td>\n",
       "      <td>Partially cloudy</td>\n",
       "      <td>Partly cloudy throughout the day.</td>\n",
       "      <td>partly-cloudy-day</td>\n",
       "      <td>KBKF,KDEN,72469523036,KAPA,72565003017,C7015,A...</td>\n",
       "    </tr>\n",
       "  </tbody>\n",
       "</table>\n",
       "<p>5 rows × 25 columns</p>\n",
       "</div>"
      ],
      "text/plain": [
       "                name  tempmax  tempmin  temp  feelslikemax  feelslikemin  \\\n",
       "datetime                                                                   \n",
       "2022-06-13  Colorado     95.7     65.5  81.4          90.7          65.5   \n",
       "2022-06-14  Colorado     83.7     52.0  67.2          81.0          52.0   \n",
       "2022-06-15  Colorado     86.1     48.3  68.3          82.8          43.3   \n",
       "2022-06-16  Colorado     92.8     54.1  74.6          88.8          54.1   \n",
       "2022-06-17  Colorado     95.2     59.5  77.5          90.4          59.5   \n",
       "\n",
       "            feelslike   dew  humidity  precip  ...  sealevelpressure  \\\n",
       "datetime                                       ...                     \n",
       "2022-06-13       79.1  27.1      15.8     0.0  ...             996.2   \n",
       "2022-06-14       66.8  37.4      36.0     0.0  ...            1003.2   \n",
       "2022-06-15       67.4  30.2      32.5     0.0  ...            1009.9   \n",
       "2022-06-16       73.2  40.0      31.2     0.0  ...            1013.3   \n",
       "2022-06-17       76.0  47.5      43.5     0.0  ...            1010.1   \n",
       "\n",
       "            cloudcover visibility              sunrise               sunset  \\\n",
       "datetime                                                                      \n",
       "2022-06-13        27.1        9.8  2022-06-13T05:31:28  2022-06-13T20:28:57   \n",
       "2022-06-14        37.4        9.9  2022-06-14T05:31:28  2022-06-14T20:29:22   \n",
       "2022-06-15         7.5        9.9  2022-06-15T05:31:29  2022-06-15T20:29:45   \n",
       "2022-06-16        17.8        9.9  2022-06-16T05:31:33  2022-06-16T20:30:06   \n",
       "2022-06-17        56.5        9.9  2022-06-17T05:31:38  2022-06-17T20:30:26   \n",
       "\n",
       "            moonphase        conditions                           description  \\\n",
       "datetime                                                                        \n",
       "2022-06-13       0.48  Partially cloudy     Partly cloudy throughout the day.   \n",
       "2022-06-14       0.50  Partially cloudy     Partly cloudy throughout the day.   \n",
       "2022-06-15       0.54             Clear  Clear conditions throughout the day.   \n",
       "2022-06-16       0.58             Clear  Clear conditions throughout the day.   \n",
       "2022-06-17       0.61  Partially cloudy     Partly cloudy throughout the day.   \n",
       "\n",
       "                         icon  \\\n",
       "datetime                        \n",
       "2022-06-13  partly-cloudy-day   \n",
       "2022-06-14  partly-cloudy-day   \n",
       "2022-06-15          clear-day   \n",
       "2022-06-16          clear-day   \n",
       "2022-06-17  partly-cloudy-day   \n",
       "\n",
       "                                                     stations  \n",
       "datetime                                                       \n",
       "2022-06-13  KBKF,KDEN,72469523036,KAPA,72565003017,C7015,A...  \n",
       "2022-06-14  KBKF,KDEN,72469523036,KAPA,72565003017,C7015,A...  \n",
       "2022-06-15  KBKF,KDEN,72469523036,KAPA,72565003017,C7015,A...  \n",
       "2022-06-16  KBKF,KDEN,72469523036,KAPA,72565003017,C7015,A...  \n",
       "2022-06-17  KBKF,KDEN,72469523036,KAPA,72565003017,C7015,A...  \n",
       "\n",
       "[5 rows x 25 columns]"
      ]
     },
     "execution_count": 24,
     "metadata": {},
     "output_type": "execute_result"
    }
   ],
   "source": [
    "df.tail()"
   ]
  },
  {
   "cell_type": "markdown",
   "id": "2f30984d-2f74-4302-b01c-0c05b6fbf3ff",
   "metadata": {},
   "source": [
    "#### We are seeing no specific trends in our dataset so we will not need to convert our data"
   ]
  },
  {
   "cell_type": "code",
   "execution_count": 25,
   "id": "53f60767-d4c9-4e78-99b3-cd3235d6e258",
   "metadata": {
    "tags": []
   },
   "outputs": [
    {
     "data": {
      "image/png": "[encoded data removed]",
      "text/plain": [
       "<Figure size 1200x600 with 1 Axes>"
      ]
     },
     "metadata": {},
     "output_type": "display_data"
    }
   ],
   "source": [
    "df['temp'].plot(figsize=(12,6));"
   ]
  },
  {
   "cell_type": "code",
   "execution_count": 26,
   "id": "16007b3e-7186-4b2b-b4be-6ecbab18f2d2",
   "metadata": {
    "tags": []
   },
   "outputs": [
    {
     "data": {
      "image/png": "[encoded data removed]",
      "text/plain": [
       "<Figure size 1200x600 with 1 Axes>"
      ]
     },
     "metadata": {},
     "output_type": "display_data"
    }
   ],
   "source": [
    "df['humidity'].plot(figsize=(12,6));"
   ]
  },
  {
   "cell_type": "code",
   "execution_count": 27,
   "id": "0dd71d78-0aff-400f-a257-fdddd1d81379",
   "metadata": {
    "tags": []
   },
   "outputs": [
    {
     "data": {
      "image/png": "[encoded data removed]",
      "text/plain": [
       "<Figure size 1200x600 with 1 Axes>"
      ]
     },
     "metadata": {},
     "output_type": "display_data"
    }
   ],
   "source": [
    "df['windspeed'].plot(figsize=(12,6));"
   ]
  },
  {
   "cell_type": "code",
   "execution_count": 28,
   "id": "de1f7bf5-9d60-470f-bfe2-e48c086aefba",
   "metadata": {},
   "outputs": [],
   "source": [
    "df.to_csv('../data/eda_data.csv')"
   ]
  }
 ],
 "metadata": {
  "kernelspec": {
   "display_name": "Python 3 (ipykernel)",
   "language": "python",
   "name": "python3"
  },
  "language_info": {
   "codemirror_mode": {
    "name": "ipython",
    "version": 3
   },
   "file_extension": ".py",
   "mimetype": "text/x-python",
   "name": "python",
   "nbconvert_exporter": "python",
   "pygments_lexer": "ipython3",
   "version": "3.11.4"
  }
 },
 "nbformat": 4,
 "nbformat_minor": 5
}
