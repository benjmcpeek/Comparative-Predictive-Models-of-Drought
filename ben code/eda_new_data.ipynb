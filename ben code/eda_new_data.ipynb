{
 "cells": [
  {
   "cell_type": "markdown",
   "id": "6ffbcb0a-f193-40c0-bf16-612990a593af",
   "metadata": {},
   "source": [
    "# EDA and Cleaning Data \n",
    "***Summary***\n",
    "- We are collecting weather data from [Visaul Crossing Weather Webstie](https://www.visualcrossing.com/) on the state of California. We were able to gather data from 1950-2022.\n",
    "- The datasets have various features regarding temperature, wind, perpcipitation, solar energy, and atmospheric phases. As described in the data description [Visual Crossing Data Dictionary](https://www.visualcrossing.com/resources/documentation/weather-data/weather-data-documentation/), most numeric rows are averages based on the region selected (California). \n",
    "- In this notebook we will concatenate our data and deal with missing values. We will also manipulate features that we want to incorperate and drop any columns unnecessary to our model. Finally we will setup our index as a formatted date column. "
   ]
  },
  {
   "cell_type": "code",
   "execution_count": 1,
   "id": "6806ad68-a14d-4a8d-9444-aa8ef92567ad",
   "metadata": {
    "tags": []
   },
   "outputs": [],
   "source": [
    "import pandas as pd\n",
    "import numpy as np \n",
    "import matplotlib.pyplot as plt "
   ]
  },
  {
   "cell_type": "markdown",
   "id": "0e16f188-f8db-41db-b6db-298966e80ce0",
   "metadata": {},
   "source": [
    "- Reading in all datasets and concatonating them."
   ]
  },
  {
   "cell_type": "code",
   "execution_count": 2,
   "id": "c42b4d59-92c0-4b29-b35f-fb8b0f38cc47",
   "metadata": {
    "tags": []
   },
   "outputs": [],
   "source": [
    "cal_hist = pd.read_csv('../data/California 1970-01-01 to 1990-01-01.csv')"
   ]
  },
  {
   "cell_type": "code",
   "execution_count": 3,
   "id": "6f131007-7f48-4640-9fa8-5fc2220f8e80",
   "metadata": {
    "tags": []
   },
   "outputs": [
    {
     "data": {
      "text/plain": [
       "(7306, 33)"
      ]
     },
     "execution_count": 3,
     "metadata": {},
     "output_type": "execute_result"
    }
   ],
   "source": [
    "cal_hist.shape"
   ]
  },
  {
   "cell_type": "code",
   "execution_count": 4,
   "id": "27901fe0-03e4-4e08-a732-6851814afd3f",
   "metadata": {
    "tags": []
   },
   "outputs": [],
   "source": [
    "cal_current = pd.read_csv('../data/California 1990-02-01 to 2022-01-01.csv')"
   ]
  },
  {
   "cell_type": "code",
   "execution_count": 5,
   "id": "db8937bd-8da7-458d-864a-80ad384856e4",
   "metadata": {
    "tags": []
   },
   "outputs": [
    {
     "data": {
      "text/plain": [
       "(11658, 33)"
      ]
     },
     "execution_count": 5,
     "metadata": {},
     "output_type": "execute_result"
    }
   ],
   "source": [
    "cal_current.shape"
   ]
  },
  {
   "cell_type": "code",
   "execution_count": 6,
   "id": "f6c5adad-092c-4793-b25f-708440cce00c",
   "metadata": {
    "tags": []
   },
   "outputs": [],
   "source": [
    "df = pd.concat([cal_hist, cal_current])"
   ]
  },
  {
   "cell_type": "code",
   "execution_count": 7,
   "id": "d8e3d2b5-b33e-49e4-84de-fbb860c18872",
   "metadata": {
    "tags": []
   },
   "outputs": [
    {
     "data": {
      "text/plain": [
       "(18964, 33)"
      ]
     },
     "execution_count": 7,
     "metadata": {},
     "output_type": "execute_result"
    }
   ],
   "source": [
    "df.shape"
   ]
  },
  {
   "cell_type": "code",
   "execution_count": 8,
   "id": "2ce1d6e1-8f8d-4801-aa3b-f4752e14eef5",
   "metadata": {
    "tags": []
   },
   "outputs": [
    {
     "data": {
      "text/plain": [
       "Index(['name', 'datetime', 'tempmax', 'tempmin', 'temp', 'feelslikemax',\n",
       "       'feelslikemin', 'feelslike', 'dew', 'humidity', 'precip', 'precipprob',\n",
       "       'precipcover', 'preciptype', 'snow', 'snowdepth', 'windgust',\n",
       "       'windspeed', 'winddir', 'sealevelpressure', 'cloudcover', 'visibility',\n",
       "       'solarradiation', 'solarenergy', 'uvindex', 'severerisk', 'sunrise',\n",
       "       'sunset', 'moonphase', 'conditions', 'description', 'icon', 'stations'],\n",
       "      dtype='object')"
      ]
     },
     "execution_count": 8,
     "metadata": {},
     "output_type": "execute_result"
    }
   ],
   "source": [
    "df.columns"
   ]
  },
  {
   "cell_type": "code",
   "execution_count": 9,
   "id": "479f436f-e3f6-4744-bd27-e4bef1590673",
   "metadata": {
    "tags": []
   },
   "outputs": [
    {
     "name": "stdout",
     "output_type": "stream",
     "text": [
      "<class 'pandas.core.frame.DataFrame'>\n",
      "Index: 18964 entries, 0 to 11657\n",
      "Data columns (total 33 columns):\n",
      " #   Column            Non-Null Count  Dtype  \n",
      "---  ------            --------------  -----  \n",
      " 0   name              18964 non-null  object \n",
      " 1   datetime          18964 non-null  object \n",
      " 2   tempmax           18964 non-null  float64\n",
      " 3   tempmin           18964 non-null  float64\n",
      " 4   temp              18964 non-null  float64\n",
      " 5   feelslikemax      18964 non-null  float64\n",
      " 6   feelslikemin      18964 non-null  float64\n",
      " 7   feelslike         18964 non-null  float64\n",
      " 8   dew               18964 non-null  float64\n",
      " 9   humidity          18964 non-null  float64\n",
      " 10  precip            18234 non-null  float64\n",
      " 11  precipprob        18964 non-null  int64  \n",
      " 12  precipcover       18964 non-null  float64\n",
      " 13  preciptype        3639 non-null   object \n",
      " 14  snow              0 non-null      float64\n",
      " 15  snowdepth         735 non-null    float64\n",
      " 16  windgust          3164 non-null   float64\n",
      " 17  windspeed         18964 non-null  float64\n",
      " 18  winddir           18962 non-null  float64\n",
      " 19  sealevelpressure  18964 non-null  float64\n",
      " 20  cloudcover        18964 non-null  float64\n",
      " 21  visibility        18964 non-null  float64\n",
      " 22  solarradiation    4385 non-null   float64\n",
      " 23  solarenergy       4385 non-null   float64\n",
      " 24  uvindex           4385 non-null   float64\n",
      " 25  severerisk        0 non-null      float64\n",
      " 26  sunrise           18964 non-null  object \n",
      " 27  sunset            18964 non-null  object \n",
      " 28  moonphase         18964 non-null  float64\n",
      " 29  conditions        18964 non-null  object \n",
      " 30  description       18964 non-null  object \n",
      " 31  icon              18964 non-null  object \n",
      " 32  stations          18964 non-null  object \n",
      "dtypes: float64(23), int64(1), object(9)\n",
      "memory usage: 4.9+ MB\n"
     ]
    }
   ],
   "source": [
    "df.info()"
   ]
  },
  {
   "cell_type": "code",
   "execution_count": 10,
   "id": "fda45a90-cd48-419f-8e83-8c1a164a839f",
   "metadata": {
    "tags": []
   },
   "outputs": [
    {
     "data": {
      "text/plain": [
       "precip              730\n",
       "preciptype        15325\n",
       "snow              18964\n",
       "snowdepth         18229\n",
       "windgust          15800\n",
       "winddir               2\n",
       "solarradiation    14579\n",
       "solarenergy       14579\n",
       "uvindex           14579\n",
       "severerisk        18964\n",
       "dtype: int64"
      ]
     },
     "execution_count": 10,
     "metadata": {},
     "output_type": "execute_result"
    }
   ],
   "source": [
    "df.isnull().sum()[lambda x: x > 0]"
   ]
  },
  {
   "cell_type": "markdown",
   "id": "b204c892-2d79-4700-8eaf-676c72d91d32",
   "metadata": {},
   "source": [
    "## Removing Columns\n",
    "- We can see columns 'snow' and 'severerisk' have all null values. This alligns with California's recent history containing no snow or severe weather abnormalities. We will remove these columns including 'snowdepth' because they do not relate to our region. \n",
    "- We can also see some missing rows in our target variable. Because we can't have any missing values in our model we will remove any rows with null values for 'precip'. Removing these rows is acceptable considering it only covers 4% of our data. \n"
   ]
  },
  {
   "cell_type": "code",
   "execution_count": 11,
   "id": "9654d1b6-5ed5-4932-9d69-11c68cd1338b",
   "metadata": {
    "tags": []
   },
   "outputs": [],
   "source": [
    "df.dropna(subset=['precip'], inplace=True)"
   ]
  },
  {
   "cell_type": "code",
   "execution_count": 12,
   "id": "06da03b2-6240-448e-85ef-979a78666f1f",
   "metadata": {
    "tags": []
   },
   "outputs": [
    {
     "data": {
      "text/plain": [
       "(18234, 33)"
      ]
     },
     "execution_count": 12,
     "metadata": {},
     "output_type": "execute_result"
    }
   ],
   "source": [
    "df.shape"
   ]
  },
  {
   "cell_type": "code",
   "execution_count": 13,
   "id": "b2318ddc-ba82-4a47-b93a-dd0051bd79c6",
   "metadata": {
    "tags": []
   },
   "outputs": [],
   "source": [
    "df.drop(columns=['snow', 'snowdepth', 'severerisk'], inplace=True)"
   ]
  },
  {
   "cell_type": "code",
   "execution_count": 14,
   "id": "adb87072-11fe-431e-a7a6-d67dbc7c4bd8",
   "metadata": {
    "tags": []
   },
   "outputs": [
    {
     "data": {
      "text/plain": [
       "(18234, 30)"
      ]
     },
     "execution_count": 14,
     "metadata": {},
     "output_type": "execute_result"
    }
   ],
   "source": [
    "df.shape"
   ]
  },
  {
   "cell_type": "code",
   "execution_count": 15,
   "id": "6622f706-528d-4b8a-ad94-187611d9d939",
   "metadata": {
    "tags": []
   },
   "outputs": [
    {
     "data": {
      "text/plain": [
       "preciptype        14595\n",
       "windgust          15070\n",
       "winddir               1\n",
       "solarradiation    13849\n",
       "solarenergy       13849\n",
       "uvindex           13849\n",
       "dtype: int64"
      ]
     },
     "execution_count": 15,
     "metadata": {},
     "output_type": "execute_result"
    }
   ],
   "source": [
    "df.isnull().sum()[lambda x: x > 0]"
   ]
  },
  {
   "cell_type": "markdown",
   "id": "163f12cb-01d0-493d-a8f6-55114355cb1d",
   "metadata": {},
   "source": [
    "## Feature Engineering \n",
    "***We can see two columns that we can manipulate.***\n",
    "- 'winddir' has one missing value. We can fill this in with the mean value of the column with minimal impact on our model. \n",
    "- 'icon' is an object column that has descriptors of different weather conditions. We will dummify these columns to use them as features in our model\n",
    "- There are 9 object columns that we can explore. "
   ]
  },
  {
   "cell_type": "markdown",
   "id": "31d3b47d-f34f-4f55-9ae7-bf6bbc81ce24",
   "metadata": {},
   "source": [
    "- Replacing single missing value of 'winddir' with mean of column"
   ]
  },
  {
   "cell_type": "code",
   "execution_count": 16,
   "id": "340caf80-b58d-4eda-9a76-db4361efeac5",
   "metadata": {
    "tags": []
   },
   "outputs": [
    {
     "data": {
      "text/plain": [
       "1"
      ]
     },
     "execution_count": 16,
     "metadata": {},
     "output_type": "execute_result"
    }
   ],
   "source": [
    "df['winddir'].isnull().sum()"
   ]
  },
  {
   "cell_type": "code",
   "execution_count": 17,
   "id": "e5cca288-ba18-45d1-87e1-dfb59630a028",
   "metadata": {
    "tags": []
   },
   "outputs": [],
   "source": [
    "mean = df['winddir'].mean()"
   ]
  },
  {
   "cell_type": "code",
   "execution_count": 18,
   "id": "acc2f962-8836-4d2f-8aa8-dc33e50f0855",
   "metadata": {
    "tags": []
   },
   "outputs": [],
   "source": [
    "df['winddir'] = df['winddir'].fillna(mean)"
   ]
  },
  {
   "cell_type": "code",
   "execution_count": 19,
   "id": "b8d9c2c4-b149-4dc9-9263-6f7166fe4821",
   "metadata": {
    "tags": []
   },
   "outputs": [
    {
     "data": {
      "text/plain": [
       "0"
      ]
     },
     "execution_count": 19,
     "metadata": {},
     "output_type": "execute_result"
    }
   ],
   "source": [
    "df['winddir'].isnull().sum()"
   ]
  },
  {
   "cell_type": "markdown",
   "id": "5d0ec2b5-6921-45d7-a5b2-a1c3a198277b",
   "metadata": {},
   "source": [
    "### EDA on Object columns"
   ]
  },
  {
   "cell_type": "code",
   "execution_count": 20,
   "id": "0dad55cd-25da-49f1-a3a0-ccfdbdc4fe95",
   "metadata": {
    "tags": []
   },
   "outputs": [],
   "source": [
    "obj = [i for i in df.columns if df[i].dtype == 'O']"
   ]
  },
  {
   "cell_type": "code",
   "execution_count": 21,
   "id": "fe1130e4-2ba9-4441-94f6-5ccc2becbdc9",
   "metadata": {
    "tags": []
   },
   "outputs": [
    {
     "data": {
      "text/plain": [
       "['name',\n",
       " 'datetime',\n",
       " 'preciptype',\n",
       " 'sunrise',\n",
       " 'sunset',\n",
       " 'conditions',\n",
       " 'description',\n",
       " 'icon',\n",
       " 'stations']"
      ]
     },
     "execution_count": 21,
     "metadata": {},
     "output_type": "execute_result"
    }
   ],
   "source": [
    "obj"
   ]
  },
  {
   "cell_type": "markdown",
   "id": "8871ca17-45d6-47a6-9a3b-9fa3eb388f39",
   "metadata": {},
   "source": [
    "***'name', 'datetime', and 'preciptype' will not but observed in this feature engineering because:***\n",
    "- 'name' has the same value for every row ('California')\n",
    "- 'datetime' will become our index in our last cleaning step\n",
    "- 'preciptype' has similar information to 'icon' however we will use 'icon' because it has more descriptors"
   ]
  },
  {
   "cell_type": "code",
   "execution_count": 22,
   "id": "4dd746be-733d-40eb-a793-4007ad97c1f4",
   "metadata": {
    "tags": []
   },
   "outputs": [
    {
     "data": {
      "text/plain": [
       "icon\n",
       "clear-day            9483\n",
       "partly-cloudy-day    4628\n",
       "rain                 3639\n",
       "cloudy                364\n",
       "fog                    98\n",
       "wind                   22\n",
       "Name: count, dtype: int64"
      ]
     },
     "execution_count": 22,
     "metadata": {},
     "output_type": "execute_result"
    }
   ],
   "source": [
    "df['icon'].value_counts()"
   ]
  },
  {
   "cell_type": "markdown",
   "id": "4a9c95c7-10d9-4400-a364-6abfadad4680",
   "metadata": {},
   "source": [
    "- 'icon' has descriptors that can be helpful features. We will dummify this column to be able to use these features. "
   ]
  },
  {
   "cell_type": "code",
   "execution_count": 23,
   "id": "e92491a8-8fd1-4970-bc52-d8ac16ccfc04",
   "metadata": {
    "tags": []
   },
   "outputs": [],
   "source": [
    "df[['clear-day', 'cloudy', 'fog', 'partly-cloudy-day', 'rain_icon', 'wind']] = pd.get_dummies(df['icon'], dtype='int')"
   ]
  },
  {
   "cell_type": "code",
   "execution_count": 24,
   "id": "0f15cf15-eaa9-4b3f-aea2-6791495b9c25",
   "metadata": {
    "tags": []
   },
   "outputs": [
    {
     "data": {
      "text/plain": [
       "clear-day\n",
       "1    9483\n",
       "0    8751\n",
       "Name: count, dtype: int64"
      ]
     },
     "execution_count": 24,
     "metadata": {},
     "output_type": "execute_result"
    }
   ],
   "source": [
    "df['clear-day'].value_counts()"
   ]
  },
  {
   "cell_type": "code",
   "execution_count": 25,
   "id": "257cadf7-c2c0-4598-bfdf-311f879d3515",
   "metadata": {
    "tags": []
   },
   "outputs": [
    {
     "data": {
      "text/plain": [
       "wind\n",
       "0    18212\n",
       "1       22\n",
       "Name: count, dtype: int64"
      ]
     },
     "execution_count": 25,
     "metadata": {},
     "output_type": "execute_result"
    }
   ],
   "source": [
    "df['wind'].value_counts()"
   ]
  },
  {
   "cell_type": "code",
   "execution_count": 26,
   "id": "e9f5bc2a-ed5e-41c0-a495-75aa7d08b103",
   "metadata": {
    "tags": []
   },
   "outputs": [
    {
     "data": {
      "text/plain": [
       "array(['1970-01-01T16:55:28', '1970-01-02T16:56:17',\n",
       "       '1970-01-03T16:57:08', ..., '2021-12-30T16:54:08',\n",
       "       '2021-12-31T16:54:55', '2022-01-01T16:55:43'], dtype=object)"
      ]
     },
     "execution_count": 26,
     "metadata": {},
     "output_type": "execute_result"
    }
   ],
   "source": [
    "df['sunset'].unique()"
   ]
  },
  {
   "cell_type": "code",
   "execution_count": 27,
   "id": "ca0ae8f1-1d87-4e41-87a3-fdb429e5421f",
   "metadata": {
    "tags": []
   },
   "outputs": [
    {
     "data": {
      "text/plain": [
       "array(['1970-01-01T16:55:28', '1970-01-02T16:56:17',\n",
       "       '1970-01-03T16:57:08', ..., '2021-12-30T16:54:08',\n",
       "       '2021-12-31T16:54:55', '2022-01-01T16:55:43'], dtype=object)"
      ]
     },
     "execution_count": 27,
     "metadata": {},
     "output_type": "execute_result"
    }
   ],
   "source": [
    "df['sunset'].unique()"
   ]
  },
  {
   "cell_type": "markdown",
   "id": "07cb27fd-2b7c-49c5-88a3-38d5b2b41b9c",
   "metadata": {},
   "source": [
    "- 'sunset' and 'sunrise' columns are dates as strings. Could see use for these but need to research how to do it. "
   ]
  },
  {
   "cell_type": "code",
   "execution_count": 28,
   "id": "2a77f940-7df2-4e4f-b60c-e1a4c26284ed",
   "metadata": {
    "tags": []
   },
   "outputs": [
    {
     "data": {
      "text/plain": [
       "conditions\n",
       "Clear                           9502\n",
       "Partially cloudy                4663\n",
       "Rain, Partially cloudy          2306\n",
       "Rain, Overcast                  1022\n",
       "Overcast                         430\n",
       "Rain                             291\n",
       "Snow, Rain, Partially cloudy      11\n",
       "Snow, Rain, Overcast               5\n",
       "Snow, Rain                         4\n",
       "Name: count, dtype: int64"
      ]
     },
     "execution_count": 28,
     "metadata": {},
     "output_type": "execute_result"
    }
   ],
   "source": [
    "df['conditions'].value_counts()"
   ]
  },
  {
   "cell_type": "markdown",
   "id": "144681b2-a13d-4762-90b9-a61ea67375be",
   "metadata": {},
   "source": [
    "- 'conditions' column is redundant because we are using very similar features with 'icon'"
   ]
  },
  {
   "cell_type": "code",
   "execution_count": 29,
   "id": "928dbd00-c65c-49d5-b264-d6693d50ced5",
   "metadata": {
    "tags": []
   },
   "outputs": [
    {
     "data": {
      "text/plain": [
       "stations\n",
       "74516023202,72483023232,72483993225,72483623208,72492023237,72483793216                                    6198\n",
       "74516023202,72483023232,72483993225                                                                        3357\n",
       "72483023232                                                                                                1460\n",
       "KSMF,72483023232,KLHM,72483993225,72483323206,KSAC,72057600174,KMHR                                        1141\n",
       "74516023202,72482893241,72483023232,72483993225,72483323206                                                1052\n",
       "                                                                                                           ... \n",
       "KSMF,72483023232,KLHM,72483993225,AN063,72483323206,KSAC,CI155,72057600174,CI235,D6184,KMHR                   1\n",
       "KSMF,72482893241,72483023232,KLHM,72483993225,AN063,72483323206,KSAC,CI155,72057600174,KMHR                   1\n",
       "E9060,KSMF,72482893241,72483023232,KLHM,72483993225,AN063,72483323206,KSAC,CI155,72057600174,CI212            1\n",
       "KSMF,KLHM,KSAC,72057600174,KMHR,E9060,72482893241,CQ054,72483023232,72483993225,AN063,72483323206,CI155       1\n",
       "KSMF,TS389,72483023232,KLHM,72483993225,72483323206,KSAC,72057600174,D7413,CFCCA,CI047,KMHR                   1\n",
       "Name: count, Length: 865, dtype: int64"
      ]
     },
     "execution_count": 29,
     "metadata": {},
     "output_type": "execute_result"
    }
   ],
   "source": [
    "df['stations'].value_counts()"
   ]
  },
  {
   "cell_type": "markdown",
   "id": "c88bbf24-0a16-44ef-bf77-f3556d51378e",
   "metadata": {},
   "source": [
    "- 'stations' columns shows the coordinates for weather stations. This imformation is not helpful to determine precperation"
   ]
  },
  {
   "cell_type": "code",
   "execution_count": 30,
   "id": "56e9c314-8f77-4eba-bb01-9f8f7a2c3d6f",
   "metadata": {
    "tags": []
   },
   "outputs": [
    {
     "data": {
      "text/plain": [
       "description\n",
       "Clear conditions throughout the day.           9492\n",
       "Partly cloudy throughout the day.              3685\n",
       "Clearing in the afternoon.                      513\n",
       "Becoming cloudy in the afternoon.               475\n",
       "Partly cloudy throughout the day with rain.     467\n",
       "Name: count, dtype: int64"
      ]
     },
     "execution_count": 30,
     "metadata": {},
     "output_type": "execute_result"
    }
   ],
   "source": [
    "df['description'].value_counts().head()"
   ]
  },
  {
   "cell_type": "markdown",
   "id": "6639d666-a968-4c35-913d-7d3432b03855",
   "metadata": {},
   "source": [
    "- 'description' column are sentence descriptor versions of similar information that 'icon' has. "
   ]
  },
  {
   "cell_type": "markdown",
   "id": "3e6aec0c-e252-4b2e-91e5-ad5b5c431d9d",
   "metadata": {},
   "source": [
    "## Removing Columns with more than half missing values\n",
    "- The data dictionary for this dataset mentions that all missing values cannot be replaced with 0's because 0 is a measurement that is used often in this dataset\n",
    "- Besides 'winddir' all other columns that have a majority of missing data are floats or integers, making filling those values dangerous to do. "
   ]
  },
  {
   "cell_type": "code",
   "execution_count": 31,
   "id": "abf6907c-b085-44b5-8a91-cb4e595a38e5",
   "metadata": {
    "tags": []
   },
   "outputs": [],
   "source": [
    "col_drop = [i for i in df.columns if df[i].isnull().sum() > (len(df) / 2)]"
   ]
  },
  {
   "cell_type": "code",
   "execution_count": 32,
   "id": "f38a0175-d61d-4867-a4ce-78a6efc55e16",
   "metadata": {
    "tags": []
   },
   "outputs": [
    {
     "data": {
      "text/plain": [
       "['preciptype', 'windgust', 'solarradiation', 'solarenergy', 'uvindex']"
      ]
     },
     "execution_count": 32,
     "metadata": {},
     "output_type": "execute_result"
    }
   ],
   "source": [
    "col_drop"
   ]
  },
  {
   "cell_type": "code",
   "execution_count": 33,
   "id": "513598bc-4d6f-4001-b1f4-c97dbfd10a8b",
   "metadata": {
    "tags": []
   },
   "outputs": [],
   "source": [
    "df.drop(columns = col_drop, inplace = True)"
   ]
  },
  {
   "cell_type": "code",
   "execution_count": 34,
   "id": "85fdb709-1ebb-4b1e-9693-1b97508b7d54",
   "metadata": {
    "tags": []
   },
   "outputs": [
    {
     "data": {
      "text/plain": [
       "name                 0\n",
       "datetime             0\n",
       "tempmax              0\n",
       "tempmin              0\n",
       "temp                 0\n",
       "feelslikemax         0\n",
       "feelslikemin         0\n",
       "feelslike            0\n",
       "dew                  0\n",
       "humidity             0\n",
       "precip               0\n",
       "precipprob           0\n",
       "precipcover          0\n",
       "windspeed            0\n",
       "winddir              0\n",
       "sealevelpressure     0\n",
       "cloudcover           0\n",
       "visibility           0\n",
       "sunrise              0\n",
       "sunset               0\n",
       "moonphase            0\n",
       "conditions           0\n",
       "description          0\n",
       "icon                 0\n",
       "stations             0\n",
       "clear-day            0\n",
       "cloudy               0\n",
       "fog                  0\n",
       "partly-cloudy-day    0\n",
       "rain_icon            0\n",
       "wind                 0\n",
       "dtype: int64"
      ]
     },
     "execution_count": 34,
     "metadata": {},
     "output_type": "execute_result"
    }
   ],
   "source": [
    "df.isnull().sum()"
   ]
  },
  {
   "cell_type": "markdown",
   "id": "8b4e40f3-4411-4ad2-95f7-ad700b31fde9",
   "metadata": {
    "tags": []
   },
   "source": [
    "## Convert and index Date Column "
   ]
  },
  {
   "cell_type": "code",
   "execution_count": 35,
   "id": "03f67efb-d62d-41c6-83e3-f96f8020594e",
   "metadata": {},
   "outputs": [],
   "source": [
    "df['datetime'] = pd.to_datetime(df['datetime'])"
   ]
  },
  {
   "cell_type": "code",
   "execution_count": 36,
   "id": "9af395d7-9f01-42b8-8167-848498e1b4cb",
   "metadata": {},
   "outputs": [
    {
     "data": {
      "text/html": [
       "<div>\n",
       "<style scoped>\n",
       "    .dataframe tbody tr th:only-of-type {\n",
       "        vertical-align: middle;\n",
       "    }\n",
       "\n",
       "    .dataframe tbody tr th {\n",
       "        vertical-align: top;\n",
       "    }\n",
       "\n",
       "    .dataframe thead th {\n",
       "        text-align: right;\n",
       "    }\n",
       "</style>\n",
       "<table border=\"1\" class=\"dataframe\">\n",
       "  <thead>\n",
       "    <tr style=\"text-align: right;\">\n",
       "      <th></th>\n",
       "      <th>name</th>\n",
       "      <th>tempmax</th>\n",
       "      <th>tempmin</th>\n",
       "      <th>temp</th>\n",
       "      <th>feelslikemax</th>\n",
       "      <th>feelslikemin</th>\n",
       "      <th>feelslike</th>\n",
       "      <th>dew</th>\n",
       "      <th>humidity</th>\n",
       "      <th>precip</th>\n",
       "      <th>...</th>\n",
       "      <th>conditions</th>\n",
       "      <th>description</th>\n",
       "      <th>icon</th>\n",
       "      <th>stations</th>\n",
       "      <th>clear-day</th>\n",
       "      <th>cloudy</th>\n",
       "      <th>fog</th>\n",
       "      <th>partly-cloudy-day</th>\n",
       "      <th>rain_icon</th>\n",
       "      <th>wind</th>\n",
       "    </tr>\n",
       "    <tr>\n",
       "      <th>datetime</th>\n",
       "      <th></th>\n",
       "      <th></th>\n",
       "      <th></th>\n",
       "      <th></th>\n",
       "      <th></th>\n",
       "      <th></th>\n",
       "      <th></th>\n",
       "      <th></th>\n",
       "      <th></th>\n",
       "      <th></th>\n",
       "      <th></th>\n",
       "      <th></th>\n",
       "      <th></th>\n",
       "      <th></th>\n",
       "      <th></th>\n",
       "      <th></th>\n",
       "      <th></th>\n",
       "      <th></th>\n",
       "      <th></th>\n",
       "      <th></th>\n",
       "      <th></th>\n",
       "    </tr>\n",
       "  </thead>\n",
       "  <tbody>\n",
       "    <tr>\n",
       "      <th>1970-01-01</th>\n",
       "      <td>California</td>\n",
       "      <td>52.7</td>\n",
       "      <td>29.5</td>\n",
       "      <td>37.5</td>\n",
       "      <td>52.7</td>\n",
       "      <td>29.5</td>\n",
       "      <td>37.0</td>\n",
       "      <td>29.7</td>\n",
       "      <td>74.3</td>\n",
       "      <td>0.0</td>\n",
       "      <td>...</td>\n",
       "      <td>Partially cloudy</td>\n",
       "      <td>Clearing in the afternoon.</td>\n",
       "      <td>partly-cloudy-day</td>\n",
       "      <td>74516023202,99999923232,72483623208,72483793216</td>\n",
       "      <td>0</td>\n",
       "      <td>0</td>\n",
       "      <td>0</td>\n",
       "      <td>1</td>\n",
       "      <td>0</td>\n",
       "      <td>0</td>\n",
       "    </tr>\n",
       "    <tr>\n",
       "      <th>1970-01-02</th>\n",
       "      <td>California</td>\n",
       "      <td>53.5</td>\n",
       "      <td>27.4</td>\n",
       "      <td>38.2</td>\n",
       "      <td>53.5</td>\n",
       "      <td>27.4</td>\n",
       "      <td>38.0</td>\n",
       "      <td>29.1</td>\n",
       "      <td>70.8</td>\n",
       "      <td>0.0</td>\n",
       "      <td>...</td>\n",
       "      <td>Clear</td>\n",
       "      <td>Clear conditions throughout the day.</td>\n",
       "      <td>clear-day</td>\n",
       "      <td>74516023202,99999923232,72483623208,72483793216</td>\n",
       "      <td>1</td>\n",
       "      <td>0</td>\n",
       "      <td>0</td>\n",
       "      <td>0</td>\n",
       "      <td>0</td>\n",
       "      <td>0</td>\n",
       "    </tr>\n",
       "    <tr>\n",
       "      <th>1970-01-03</th>\n",
       "      <td>California</td>\n",
       "      <td>52.4</td>\n",
       "      <td>27.5</td>\n",
       "      <td>38.5</td>\n",
       "      <td>52.4</td>\n",
       "      <td>27.5</td>\n",
       "      <td>37.8</td>\n",
       "      <td>27.7</td>\n",
       "      <td>66.3</td>\n",
       "      <td>0.0</td>\n",
       "      <td>...</td>\n",
       "      <td>Clear</td>\n",
       "      <td>Clear conditions throughout the day.</td>\n",
       "      <td>clear-day</td>\n",
       "      <td>74516023202,99999923232,72483623208,72483793216</td>\n",
       "      <td>1</td>\n",
       "      <td>0</td>\n",
       "      <td>0</td>\n",
       "      <td>0</td>\n",
       "      <td>0</td>\n",
       "      <td>0</td>\n",
       "    </tr>\n",
       "    <tr>\n",
       "      <th>1970-01-04</th>\n",
       "      <td>California</td>\n",
       "      <td>50.3</td>\n",
       "      <td>27.4</td>\n",
       "      <td>36.9</td>\n",
       "      <td>50.3</td>\n",
       "      <td>26.4</td>\n",
       "      <td>34.8</td>\n",
       "      <td>27.5</td>\n",
       "      <td>69.6</td>\n",
       "      <td>0.0</td>\n",
       "      <td>...</td>\n",
       "      <td>Partially cloudy</td>\n",
       "      <td>Partly cloudy throughout the day.</td>\n",
       "      <td>partly-cloudy-day</td>\n",
       "      <td>74516023202,99999923232,72483623208,72483793216</td>\n",
       "      <td>0</td>\n",
       "      <td>0</td>\n",
       "      <td>0</td>\n",
       "      <td>1</td>\n",
       "      <td>0</td>\n",
       "      <td>0</td>\n",
       "    </tr>\n",
       "    <tr>\n",
       "      <th>1970-01-05</th>\n",
       "      <td>California</td>\n",
       "      <td>48.5</td>\n",
       "      <td>27.2</td>\n",
       "      <td>36.4</td>\n",
       "      <td>48.5</td>\n",
       "      <td>24.4</td>\n",
       "      <td>35.5</td>\n",
       "      <td>27.9</td>\n",
       "      <td>71.8</td>\n",
       "      <td>0.0</td>\n",
       "      <td>...</td>\n",
       "      <td>Partially cloudy</td>\n",
       "      <td>Partly cloudy throughout the day.</td>\n",
       "      <td>partly-cloudy-day</td>\n",
       "      <td>74516023202,99999923232,72483623208,72483793216</td>\n",
       "      <td>0</td>\n",
       "      <td>0</td>\n",
       "      <td>0</td>\n",
       "      <td>1</td>\n",
       "      <td>0</td>\n",
       "      <td>0</td>\n",
       "    </tr>\n",
       "  </tbody>\n",
       "</table>\n",
       "<p>5 rows × 30 columns</p>\n",
       "</div>"
      ],
      "text/plain": [
       "                  name  tempmax  tempmin  temp  feelslikemax  feelslikemin  \\\n",
       "datetime                                                                     \n",
       "1970-01-01  California     52.7     29.5  37.5          52.7          29.5   \n",
       "1970-01-02  California     53.5     27.4  38.2          53.5          27.4   \n",
       "1970-01-03  California     52.4     27.5  38.5          52.4          27.5   \n",
       "1970-01-04  California     50.3     27.4  36.9          50.3          26.4   \n",
       "1970-01-05  California     48.5     27.2  36.4          48.5          24.4   \n",
       "\n",
       "            feelslike   dew  humidity  precip  ...        conditions  \\\n",
       "datetime                                       ...                     \n",
       "1970-01-01       37.0  29.7      74.3     0.0  ...  Partially cloudy   \n",
       "1970-01-02       38.0  29.1      70.8     0.0  ...             Clear   \n",
       "1970-01-03       37.8  27.7      66.3     0.0  ...             Clear   \n",
       "1970-01-04       34.8  27.5      69.6     0.0  ...  Partially cloudy   \n",
       "1970-01-05       35.5  27.9      71.8     0.0  ...  Partially cloudy   \n",
       "\n",
       "                                     description               icon  \\\n",
       "datetime                                                              \n",
       "1970-01-01            Clearing in the afternoon.  partly-cloudy-day   \n",
       "1970-01-02  Clear conditions throughout the day.          clear-day   \n",
       "1970-01-03  Clear conditions throughout the day.          clear-day   \n",
       "1970-01-04     Partly cloudy throughout the day.  partly-cloudy-day   \n",
       "1970-01-05     Partly cloudy throughout the day.  partly-cloudy-day   \n",
       "\n",
       "                                                   stations  clear-day  \\\n",
       "datetime                                                                 \n",
       "1970-01-01  74516023202,99999923232,72483623208,72483793216          0   \n",
       "1970-01-02  74516023202,99999923232,72483623208,72483793216          1   \n",
       "1970-01-03  74516023202,99999923232,72483623208,72483793216          1   \n",
       "1970-01-04  74516023202,99999923232,72483623208,72483793216          0   \n",
       "1970-01-05  74516023202,99999923232,72483623208,72483793216          0   \n",
       "\n",
       "            cloudy  fog partly-cloudy-day rain_icon  wind  \n",
       "datetime                                                   \n",
       "1970-01-01       0    0                 1         0     0  \n",
       "1970-01-02       0    0                 0         0     0  \n",
       "1970-01-03       0    0                 0         0     0  \n",
       "1970-01-04       0    0                 1         0     0  \n",
       "1970-01-05       0    0                 1         0     0  \n",
       "\n",
       "[5 rows x 30 columns]"
      ]
     },
     "execution_count": 36,
     "metadata": {},
     "output_type": "execute_result"
    }
   ],
   "source": [
    "df.set_index('datetime', inplace=True)\n",
    "df.sort_index(inplace=True)\n",
    "df.head()"
   ]
  },
  {
   "cell_type": "code",
   "execution_count": 37,
   "id": "9d42141b-2287-4240-9d07-4969393e6f5a",
   "metadata": {
    "tags": []
   },
   "outputs": [
    {
     "data": {
      "text/html": [
       "<div>\n",
       "<style scoped>\n",
       "    .dataframe tbody tr th:only-of-type {\n",
       "        vertical-align: middle;\n",
       "    }\n",
       "\n",
       "    .dataframe tbody tr th {\n",
       "        vertical-align: top;\n",
       "    }\n",
       "\n",
       "    .dataframe thead th {\n",
       "        text-align: right;\n",
       "    }\n",
       "</style>\n",
       "<table border=\"1\" class=\"dataframe\">\n",
       "  <thead>\n",
       "    <tr style=\"text-align: right;\">\n",
       "      <th></th>\n",
       "      <th>name</th>\n",
       "      <th>tempmax</th>\n",
       "      <th>tempmin</th>\n",
       "      <th>temp</th>\n",
       "      <th>feelslikemax</th>\n",
       "      <th>feelslikemin</th>\n",
       "      <th>feelslike</th>\n",
       "      <th>dew</th>\n",
       "      <th>humidity</th>\n",
       "      <th>precip</th>\n",
       "      <th>...</th>\n",
       "      <th>conditions</th>\n",
       "      <th>description</th>\n",
       "      <th>icon</th>\n",
       "      <th>stations</th>\n",
       "      <th>clear-day</th>\n",
       "      <th>cloudy</th>\n",
       "      <th>fog</th>\n",
       "      <th>partly-cloudy-day</th>\n",
       "      <th>rain_icon</th>\n",
       "      <th>wind</th>\n",
       "    </tr>\n",
       "    <tr>\n",
       "      <th>datetime</th>\n",
       "      <th></th>\n",
       "      <th></th>\n",
       "      <th></th>\n",
       "      <th></th>\n",
       "      <th></th>\n",
       "      <th></th>\n",
       "      <th></th>\n",
       "      <th></th>\n",
       "      <th></th>\n",
       "      <th></th>\n",
       "      <th></th>\n",
       "      <th></th>\n",
       "      <th></th>\n",
       "      <th></th>\n",
       "      <th></th>\n",
       "      <th></th>\n",
       "      <th></th>\n",
       "      <th></th>\n",
       "      <th></th>\n",
       "      <th></th>\n",
       "      <th></th>\n",
       "    </tr>\n",
       "  </thead>\n",
       "  <tbody>\n",
       "    <tr>\n",
       "      <th>2021-12-28</th>\n",
       "      <td>California</td>\n",
       "      <td>46.0</td>\n",
       "      <td>36.3</td>\n",
       "      <td>41.7</td>\n",
       "      <td>44.8</td>\n",
       "      <td>36.3</td>\n",
       "      <td>40.6</td>\n",
       "      <td>35.8</td>\n",
       "      <td>79.9</td>\n",
       "      <td>0.002</td>\n",
       "      <td>...</td>\n",
       "      <td>Rain, Partially cloudy</td>\n",
       "      <td>Partly cloudy throughout the day with morning ...</td>\n",
       "      <td>rain</td>\n",
       "      <td>KSMF,TS389,72483023232,KLHM,72483993225,724833...</td>\n",
       "      <td>0</td>\n",
       "      <td>0</td>\n",
       "      <td>0</td>\n",
       "      <td>0</td>\n",
       "      <td>1</td>\n",
       "      <td>0</td>\n",
       "    </tr>\n",
       "    <tr>\n",
       "      <th>2021-12-29</th>\n",
       "      <td>California</td>\n",
       "      <td>43.8</td>\n",
       "      <td>41.2</td>\n",
       "      <td>42.3</td>\n",
       "      <td>38.6</td>\n",
       "      <td>35.2</td>\n",
       "      <td>36.9</td>\n",
       "      <td>40.2</td>\n",
       "      <td>92.3</td>\n",
       "      <td>0.555</td>\n",
       "      <td>...</td>\n",
       "      <td>Rain, Overcast</td>\n",
       "      <td>Cloudy skies throughout the day with a chance ...</td>\n",
       "      <td>rain</td>\n",
       "      <td>KSMF,TS389,72483023232,KLHM,72483993225,TCICA,...</td>\n",
       "      <td>0</td>\n",
       "      <td>0</td>\n",
       "      <td>0</td>\n",
       "      <td>0</td>\n",
       "      <td>1</td>\n",
       "      <td>0</td>\n",
       "    </tr>\n",
       "    <tr>\n",
       "      <th>2021-12-30</th>\n",
       "      <td>California</td>\n",
       "      <td>52.0</td>\n",
       "      <td>38.8</td>\n",
       "      <td>44.2</td>\n",
       "      <td>52.0</td>\n",
       "      <td>35.3</td>\n",
       "      <td>41.8</td>\n",
       "      <td>40.0</td>\n",
       "      <td>85.8</td>\n",
       "      <td>0.000</td>\n",
       "      <td>...</td>\n",
       "      <td>Partially cloudy</td>\n",
       "      <td>Partly cloudy throughout the day.</td>\n",
       "      <td>partly-cloudy-day</td>\n",
       "      <td>KSMF,TS389,72483023232,KLHM,72483993225,TCICA,...</td>\n",
       "      <td>0</td>\n",
       "      <td>0</td>\n",
       "      <td>0</td>\n",
       "      <td>1</td>\n",
       "      <td>0</td>\n",
       "      <td>0</td>\n",
       "    </tr>\n",
       "    <tr>\n",
       "      <th>2021-12-31</th>\n",
       "      <td>California</td>\n",
       "      <td>52.1</td>\n",
       "      <td>37.0</td>\n",
       "      <td>42.4</td>\n",
       "      <td>52.1</td>\n",
       "      <td>34.3</td>\n",
       "      <td>40.5</td>\n",
       "      <td>37.7</td>\n",
       "      <td>84.7</td>\n",
       "      <td>0.000</td>\n",
       "      <td>...</td>\n",
       "      <td>Partially cloudy</td>\n",
       "      <td>Clearing in the afternoon.</td>\n",
       "      <td>partly-cloudy-day</td>\n",
       "      <td>KSMF,TS389,72483023232,KLHM,72483993225,724833...</td>\n",
       "      <td>0</td>\n",
       "      <td>0</td>\n",
       "      <td>0</td>\n",
       "      <td>1</td>\n",
       "      <td>0</td>\n",
       "      <td>0</td>\n",
       "    </tr>\n",
       "    <tr>\n",
       "      <th>2022-01-01</th>\n",
       "      <td>California</td>\n",
       "      <td>50.5</td>\n",
       "      <td>34.8</td>\n",
       "      <td>40.1</td>\n",
       "      <td>50.5</td>\n",
       "      <td>27.3</td>\n",
       "      <td>36.8</td>\n",
       "      <td>30.7</td>\n",
       "      <td>70.9</td>\n",
       "      <td>0.000</td>\n",
       "      <td>...</td>\n",
       "      <td>Clear</td>\n",
       "      <td>Clear conditions throughout the day.</td>\n",
       "      <td>clear-day</td>\n",
       "      <td>KSMF,TS389,72483023232,KLHM,72483993225,724833...</td>\n",
       "      <td>1</td>\n",
       "      <td>0</td>\n",
       "      <td>0</td>\n",
       "      <td>0</td>\n",
       "      <td>0</td>\n",
       "      <td>0</td>\n",
       "    </tr>\n",
       "  </tbody>\n",
       "</table>\n",
       "<p>5 rows × 30 columns</p>\n",
       "</div>"
      ],
      "text/plain": [
       "                  name  tempmax  tempmin  temp  feelslikemax  feelslikemin  \\\n",
       "datetime                                                                     \n",
       "2021-12-28  California     46.0     36.3  41.7          44.8          36.3   \n",
       "2021-12-29  California     43.8     41.2  42.3          38.6          35.2   \n",
       "2021-12-30  California     52.0     38.8  44.2          52.0          35.3   \n",
       "2021-12-31  California     52.1     37.0  42.4          52.1          34.3   \n",
       "2022-01-01  California     50.5     34.8  40.1          50.5          27.3   \n",
       "\n",
       "            feelslike   dew  humidity  precip  ...              conditions  \\\n",
       "datetime                                       ...                           \n",
       "2021-12-28       40.6  35.8      79.9   0.002  ...  Rain, Partially cloudy   \n",
       "2021-12-29       36.9  40.2      92.3   0.555  ...          Rain, Overcast   \n",
       "2021-12-30       41.8  40.0      85.8   0.000  ...        Partially cloudy   \n",
       "2021-12-31       40.5  37.7      84.7   0.000  ...        Partially cloudy   \n",
       "2022-01-01       36.8  30.7      70.9   0.000  ...                   Clear   \n",
       "\n",
       "                                                  description  \\\n",
       "datetime                                                        \n",
       "2021-12-28  Partly cloudy throughout the day with morning ...   \n",
       "2021-12-29  Cloudy skies throughout the day with a chance ...   \n",
       "2021-12-30                  Partly cloudy throughout the day.   \n",
       "2021-12-31                         Clearing in the afternoon.   \n",
       "2022-01-01               Clear conditions throughout the day.   \n",
       "\n",
       "                         icon  \\\n",
       "datetime                        \n",
       "2021-12-28               rain   \n",
       "2021-12-29               rain   \n",
       "2021-12-30  partly-cloudy-day   \n",
       "2021-12-31  partly-cloudy-day   \n",
       "2022-01-01          clear-day   \n",
       "\n",
       "                                                     stations  clear-day  \\\n",
       "datetime                                                                   \n",
       "2021-12-28  KSMF,TS389,72483023232,KLHM,72483993225,724833...          0   \n",
       "2021-12-29  KSMF,TS389,72483023232,KLHM,72483993225,TCICA,...          0   \n",
       "2021-12-30  KSMF,TS389,72483023232,KLHM,72483993225,TCICA,...          0   \n",
       "2021-12-31  KSMF,TS389,72483023232,KLHM,72483993225,724833...          0   \n",
       "2022-01-01  KSMF,TS389,72483023232,KLHM,72483993225,724833...          1   \n",
       "\n",
       "            cloudy  fog partly-cloudy-day rain_icon  wind  \n",
       "datetime                                                   \n",
       "2021-12-28       0    0                 0         1     0  \n",
       "2021-12-29       0    0                 0         1     0  \n",
       "2021-12-30       0    0                 1         0     0  \n",
       "2021-12-31       0    0                 1         0     0  \n",
       "2022-01-01       0    0                 0         0     0  \n",
       "\n",
       "[5 rows x 30 columns]"
      ]
     },
     "execution_count": 37,
     "metadata": {},
     "output_type": "execute_result"
    }
   ],
   "source": [
    "df.tail()"
   ]
  },
  {
   "cell_type": "markdown",
   "id": "2f30984d-2f74-4302-b01c-0c05b6fbf3ff",
   "metadata": {},
   "source": [
    "#### We are seeing no specific trends in our dataset so we will not need to convert our data"
   ]
  },
  {
   "cell_type": "code",
   "execution_count": 38,
   "id": "53f60767-d4c9-4e78-99b3-cd3235d6e258",
   "metadata": {
    "tags": []
   },
   "outputs": [
    {
     "data": {
      "image/png": "[encoded data removed]",
      "text/plain": [
       "<Figure size 1200x600 with 1 Axes>"
      ]
     },
     "metadata": {},
     "output_type": "display_data"
    }
   ],
   "source": [
    "df['temp'].plot(figsize=(12,6))\n",
    "plt.title('Tempature from 1970-2022')\n",
    "plt.ylabel('Temp');"
   ]
  },
  {
   "cell_type": "code",
   "execution_count": 39,
   "id": "16007b3e-7186-4b2b-b4be-6ecbab18f2d2",
   "metadata": {
    "tags": []
   },
   "outputs": [
    {
     "data": {
      "image/png": "[encoded data removed]",
      "text/plain": [
       "<Figure size 1200x600 with 1 Axes>"
      ]
     },
     "metadata": {},
     "output_type": "display_data"
    }
   ],
   "source": [
    "df['humidity'].plot(figsize=(12,6))\n",
    "plt.title('Humidity from 1970-2022')\n",
    "plt.ylabel('Humidity');"
   ]
  },
  {
   "cell_type": "code",
   "execution_count": 40,
   "id": "0dd71d78-0aff-400f-a257-fdddd1d81379",
   "metadata": {
    "tags": []
   },
   "outputs": [
    {
     "data": {
      "image/png": "[encoded data removed]",
      "text/plain": [
       "<Figure size 1200x600 with 1 Axes>"
      ]
     },
     "metadata": {},
     "output_type": "display_data"
    }
   ],
   "source": [
    "df['windspeed'].plot(figsize=(12,6))\n",
    "plt.title('Wind Speed from 1970-2022')\n",
    "plt.ylabel('wind_speed');"
   ]
  },
  {
   "cell_type": "markdown",
   "id": "669addd3-84b7-49ca-8cc2-4cd29df660e5",
   "metadata": {},
   "source": [
    "- There is a noticable gap in our dataset in the mid 1970's. Will search for data during that time. "
   ]
  },
  {
   "cell_type": "code",
   "execution_count": 41,
   "id": "de1f7bf5-9d60-470f-bfe2-e48c086aefba",
   "metadata": {},
   "outputs": [],
   "source": [
    "df.to_csv('../data/eda_data.csv', index_label='datetime')"
   ]
  }
 ],
 "metadata": {
  "kernelspec": {
   "display_name": "Python 3 (ipykernel)",
   "language": "python",
   "name": "python3"
  },
  "language_info": {
   "codemirror_mode": {
    "name": "ipython",
    "version": 3
   },
   "file_extension": ".py",
   "mimetype": "text/x-python",
   "name": "python",
   "nbconvert_exporter": "python",
   "pygments_lexer": "ipython3",
   "version": "3.11.4"
  }
 },
 "nbformat": 4,
 "nbformat_minor": 5
}
