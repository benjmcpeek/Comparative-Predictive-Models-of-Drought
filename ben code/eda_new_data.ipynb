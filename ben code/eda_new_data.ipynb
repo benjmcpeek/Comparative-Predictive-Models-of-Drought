{
 "cells": [
  {
   "cell_type": "code",
   "execution_count": 55,
   "id": "6806ad68-a14d-4a8d-9444-aa8ef92567ad",
   "metadata": {
    "tags": []
   },
   "outputs": [],
   "source": [
    "import pandas as pd\n",
    "import numpy as np \n",
    "import matplotlib.pyplot as plt "
   ]
  },
  {
   "cell_type": "code",
   "execution_count": 33,
   "id": "583a7831-ebd5-4828-b221-68309ec31e5c",
   "metadata": {},
   "outputs": [],
   "source": [
    "col = pd.read_csv('../data/Colorado 2000-06-17 to 2022-06-17.csv')\n",
    "col_nine = pd.read_csv('../data/col_1990s.csv')"
   ]
  },
  {
   "cell_type": "code",
   "execution_count": 34,
   "id": "62f0574e-2add-4e9e-baae-a4d4a15f7f1e",
   "metadata": {
    "tags": []
   },
   "outputs": [
    {
     "data": {
      "text/plain": [
       "(3257, 33)"
      ]
     },
     "execution_count": 34,
     "metadata": {},
     "output_type": "execute_result"
    }
   ],
   "source": [
    "col_nine.shape"
   ]
  },
  {
   "cell_type": "code",
   "execution_count": 4,
   "id": "b3a70ea3-94c8-4506-bffa-0e6c83a9451d",
   "metadata": {
    "tags": []
   },
   "outputs": [
    {
     "data": {
      "text/plain": [
       "(8036, 33)"
      ]
     },
     "execution_count": 4,
     "metadata": {},
     "output_type": "execute_result"
    }
   ],
   "source": [
    "col.shape"
   ]
  },
  {
   "cell_type": "code",
   "execution_count": 41,
   "id": "e29b3196-77f3-403e-8b27-b5b5d6354cf8",
   "metadata": {
    "tags": []
   },
   "outputs": [
    {
     "data": {
      "text/plain": [
       "(11293, 33)"
      ]
     },
     "execution_count": 41,
     "metadata": {},
     "output_type": "execute_result"
    }
   ],
   "source": [
    "df = pd.concat([col, col_nine])\n",
    "df.shape"
   ]
  },
  {
   "cell_type": "code",
   "execution_count": 48,
   "id": "2ce1d6e1-8f8d-4801-aa3b-f4752e14eef5",
   "metadata": {
    "tags": []
   },
   "outputs": [
    {
     "data": {
      "text/plain": [
       "Index(['name', 'datetime', 'tempmax', 'tempmin', 'temp', 'feelslikemax',\n",
       "       'feelslikemin', 'feelslike', 'dew', 'humidity', 'precip', 'precipprob',\n",
       "       'precipcover', 'preciptype', 'snow', 'snowdepth', 'windgust',\n",
       "       'windspeed', 'winddir', 'sealevelpressure', 'cloudcover', 'visibility',\n",
       "       'solarradiation', 'solarenergy', 'uvindex', 'sunrise', 'sunset',\n",
       "       'moonphase', 'conditions', 'description', 'icon', 'stations'],\n",
       "      dtype='object')"
      ]
     },
     "execution_count": 48,
     "metadata": {},
     "output_type": "execute_result"
    }
   ],
   "source": [
    "df.columns"
   ]
  },
  {
   "cell_type": "code",
   "execution_count": 42,
   "id": "fda45a90-cd48-419f-8e83-8c1a164a839f",
   "metadata": {
    "tags": []
   },
   "outputs": [
    {
     "data": {
      "text/plain": [
       "preciptype         7736\n",
       "snow               3257\n",
       "snowdepth          2797\n",
       "windgust           6758\n",
       "solarradiation     6741\n",
       "solarenergy        6741\n",
       "uvindex            6741\n",
       "severerisk        11134\n",
       "dtype: int64"
      ]
     },
     "execution_count": 42,
     "metadata": {},
     "output_type": "execute_result"
    }
   ],
   "source": [
    "df.isnull().sum()[lambda x: x > 0]"
   ]
  },
  {
   "cell_type": "code",
   "execution_count": 57,
   "id": "bbf6f064-ce25-4510-a77a-ec81c40c3240",
   "metadata": {
    "tags": []
   },
   "outputs": [
    {
     "data": {
      "text/plain": [
       "preciptype\n",
       "rain         2198\n",
       "rain,snow     727\n",
       "snow          632\n",
       "Name: count, dtype: int64"
      ]
     },
     "execution_count": 57,
     "metadata": {},
     "output_type": "execute_result"
    }
   ],
   "source": [
    "df['preciptype'].value_counts()"
   ]
  },
  {
   "cell_type": "code",
   "execution_count": 64,
   "id": "6238d4c6-7b6e-4920-bbdb-11ffaec9c4fa",
   "metadata": {
    "tags": []
   },
   "outputs": [
    {
     "data": {
      "text/plain": [
       "preciptype  precip\n",
       "rain        0.012       92\n",
       "            0.004       85\n",
       "            0.001       62\n",
       "            0.002       58\n",
       "            0.008       54\n",
       "                      ... \n",
       "snow        0.100        1\n",
       "            0.099        1\n",
       "            0.093        1\n",
       "            0.089        1\n",
       "NaN         0.000     7736\n",
       "Name: count, Length: 999, dtype: int64"
      ]
     },
     "execution_count": 64,
     "metadata": {},
     "output_type": "execute_result"
    }
   ],
   "source": [
    "df.groupby(by = 'preciptype', dropna = False)['precip'].value_counts()"
   ]
  },
  {
   "cell_type": "code",
   "execution_count": 65,
   "id": "3bb7f153-807a-4d9b-9e72-478244b10a4b",
   "metadata": {
    "tags": []
   },
   "outputs": [],
   "source": [
    "df['preciptype'].fillna('neither', inplace=True)"
   ]
  },
  {
   "cell_type": "markdown",
   "id": "641498ea-33cc-4269-bb49-b70a359adca9",
   "metadata": {},
   "source": []
  },
  {
   "cell_type": "code",
   "execution_count": 66,
   "id": "62628396-4ad0-4035-8764-bc5969d1ea3f",
   "metadata": {
    "tags": []
   },
   "outputs": [
    {
     "data": {
      "text/plain": [
       "preciptype\n",
       "neither      7736\n",
       "rain         2198\n",
       "rain,snow     727\n",
       "snow          632\n",
       "Name: count, dtype: int64"
      ]
     },
     "execution_count": 66,
     "metadata": {},
     "output_type": "execute_result"
    }
   ],
   "source": [
    "df['preciptype'].value_counts()"
   ]
  },
  {
   "cell_type": "code",
   "execution_count": 43,
   "id": "ff206c44-296b-424c-94a6-687a3b9f8a2e",
   "metadata": {},
   "outputs": [
    {
     "data": {
      "text/html": [
       "<div>\n",
       "<style scoped>\n",
       "    .dataframe tbody tr th:only-of-type {\n",
       "        vertical-align: middle;\n",
       "    }\n",
       "\n",
       "    .dataframe tbody tr th {\n",
       "        vertical-align: top;\n",
       "    }\n",
       "\n",
       "    .dataframe thead th {\n",
       "        text-align: right;\n",
       "    }\n",
       "</style>\n",
       "<table border=\"1\" class=\"dataframe\">\n",
       "  <thead>\n",
       "    <tr style=\"text-align: right;\">\n",
       "      <th></th>\n",
       "      <th>preciptype</th>\n",
       "      <th>snow</th>\n",
       "      <th>snowdepth</th>\n",
       "      <th>windgust</th>\n",
       "      <th>solarradiation</th>\n",
       "      <th>solarenergy</th>\n",
       "      <th>uvindex</th>\n",
       "      <th>severerisk</th>\n",
       "    </tr>\n",
       "  </thead>\n",
       "  <tbody>\n",
       "    <tr>\n",
       "      <th>0</th>\n",
       "      <td>rain</td>\n",
       "      <td>0.0</td>\n",
       "      <td>0.0</td>\n",
       "      <td>NaN</td>\n",
       "      <td>NaN</td>\n",
       "      <td>NaN</td>\n",
       "      <td>NaN</td>\n",
       "      <td>NaN</td>\n",
       "    </tr>\n",
       "    <tr>\n",
       "      <th>1</th>\n",
       "      <td>NaN</td>\n",
       "      <td>0.0</td>\n",
       "      <td>0.0</td>\n",
       "      <td>NaN</td>\n",
       "      <td>NaN</td>\n",
       "      <td>NaN</td>\n",
       "      <td>NaN</td>\n",
       "      <td>NaN</td>\n",
       "    </tr>\n",
       "    <tr>\n",
       "      <th>2</th>\n",
       "      <td>NaN</td>\n",
       "      <td>0.0</td>\n",
       "      <td>0.0</td>\n",
       "      <td>NaN</td>\n",
       "      <td>NaN</td>\n",
       "      <td>NaN</td>\n",
       "      <td>NaN</td>\n",
       "      <td>NaN</td>\n",
       "    </tr>\n",
       "    <tr>\n",
       "      <th>3</th>\n",
       "      <td>NaN</td>\n",
       "      <td>0.0</td>\n",
       "      <td>0.0</td>\n",
       "      <td>NaN</td>\n",
       "      <td>NaN</td>\n",
       "      <td>NaN</td>\n",
       "      <td>NaN</td>\n",
       "      <td>NaN</td>\n",
       "    </tr>\n",
       "    <tr>\n",
       "      <th>4</th>\n",
       "      <td>NaN</td>\n",
       "      <td>0.0</td>\n",
       "      <td>0.0</td>\n",
       "      <td>NaN</td>\n",
       "      <td>NaN</td>\n",
       "      <td>NaN</td>\n",
       "      <td>NaN</td>\n",
       "      <td>NaN</td>\n",
       "    </tr>\n",
       "    <tr>\n",
       "      <th>...</th>\n",
       "      <td>...</td>\n",
       "      <td>...</td>\n",
       "      <td>...</td>\n",
       "      <td>...</td>\n",
       "      <td>...</td>\n",
       "      <td>...</td>\n",
       "      <td>...</td>\n",
       "      <td>...</td>\n",
       "    </tr>\n",
       "    <tr>\n",
       "      <th>3252</th>\n",
       "      <td>NaN</td>\n",
       "      <td>NaN</td>\n",
       "      <td>NaN</td>\n",
       "      <td>NaN</td>\n",
       "      <td>NaN</td>\n",
       "      <td>NaN</td>\n",
       "      <td>NaN</td>\n",
       "      <td>NaN</td>\n",
       "    </tr>\n",
       "    <tr>\n",
       "      <th>3253</th>\n",
       "      <td>NaN</td>\n",
       "      <td>NaN</td>\n",
       "      <td>NaN</td>\n",
       "      <td>NaN</td>\n",
       "      <td>NaN</td>\n",
       "      <td>NaN</td>\n",
       "      <td>NaN</td>\n",
       "      <td>NaN</td>\n",
       "    </tr>\n",
       "    <tr>\n",
       "      <th>3254</th>\n",
       "      <td>NaN</td>\n",
       "      <td>NaN</td>\n",
       "      <td>NaN</td>\n",
       "      <td>NaN</td>\n",
       "      <td>NaN</td>\n",
       "      <td>NaN</td>\n",
       "      <td>NaN</td>\n",
       "      <td>NaN</td>\n",
       "    </tr>\n",
       "    <tr>\n",
       "      <th>3255</th>\n",
       "      <td>NaN</td>\n",
       "      <td>NaN</td>\n",
       "      <td>NaN</td>\n",
       "      <td>NaN</td>\n",
       "      <td>NaN</td>\n",
       "      <td>NaN</td>\n",
       "      <td>NaN</td>\n",
       "      <td>NaN</td>\n",
       "    </tr>\n",
       "    <tr>\n",
       "      <th>3256</th>\n",
       "      <td>NaN</td>\n",
       "      <td>NaN</td>\n",
       "      <td>NaN</td>\n",
       "      <td>NaN</td>\n",
       "      <td>NaN</td>\n",
       "      <td>NaN</td>\n",
       "      <td>NaN</td>\n",
       "      <td>NaN</td>\n",
       "    </tr>\n",
       "  </tbody>\n",
       "</table>\n",
       "<p>11293 rows × 8 columns</p>\n",
       "</div>"
      ],
      "text/plain": [
       "     preciptype  snow  snowdepth  windgust  solarradiation  solarenergy  \\\n",
       "0          rain   0.0        0.0       NaN             NaN          NaN   \n",
       "1           NaN   0.0        0.0       NaN             NaN          NaN   \n",
       "2           NaN   0.0        0.0       NaN             NaN          NaN   \n",
       "3           NaN   0.0        0.0       NaN             NaN          NaN   \n",
       "4           NaN   0.0        0.0       NaN             NaN          NaN   \n",
       "...         ...   ...        ...       ...             ...          ...   \n",
       "3252        NaN   NaN        NaN       NaN             NaN          NaN   \n",
       "3253        NaN   NaN        NaN       NaN             NaN          NaN   \n",
       "3254        NaN   NaN        NaN       NaN             NaN          NaN   \n",
       "3255        NaN   NaN        NaN       NaN             NaN          NaN   \n",
       "3256        NaN   NaN        NaN       NaN             NaN          NaN   \n",
       "\n",
       "      uvindex  severerisk  \n",
       "0         NaN         NaN  \n",
       "1         NaN         NaN  \n",
       "2         NaN         NaN  \n",
       "3         NaN         NaN  \n",
       "4         NaN         NaN  \n",
       "...       ...         ...  \n",
       "3252      NaN         NaN  \n",
       "3253      NaN         NaN  \n",
       "3254      NaN         NaN  \n",
       "3255      NaN         NaN  \n",
       "3256      NaN         NaN  \n",
       "\n",
       "[11293 rows x 8 columns]"
      ]
     },
     "execution_count": 43,
     "metadata": {},
     "output_type": "execute_result"
    }
   ],
   "source": [
    "# Grouping columns with large null values \n",
    "features = df.isnull().sum()[lambda x: x > 0]\n",
    "df_nulls = df[features.index]\n",
    "df_nulls"
   ]
  },
  {
   "cell_type": "code",
   "execution_count": 44,
   "id": "bd1811ad-0fce-4cad-ba50-6462f7baba86",
   "metadata": {
    "tags": []
   },
   "outputs": [
    {
     "data": {
      "text/plain": [
       "array(['rain', nan, 'rain,snow', 'snow'], dtype=object)"
      ]
     },
     "execution_count": 44,
     "metadata": {},
     "output_type": "execute_result"
    }
   ],
   "source": [
    "df['preciptype'].unique()"
   ]
  },
  {
   "cell_type": "code",
   "execution_count": 45,
   "id": "ba38f83e-29ff-435d-9eb9-c634928da8df",
   "metadata": {
    "tags": []
   },
   "outputs": [
    {
     "data": {
      "text/plain": [
       "0       2000-06-17\n",
       "1       2000-06-18\n",
       "2       2000-06-19\n",
       "3       2000-06-20\n",
       "4       2000-06-21\n",
       "           ...    \n",
       "3252    1999-11-27\n",
       "3253    1999-11-28\n",
       "3254    1999-11-29\n",
       "3255    1999-11-30\n",
       "3256    1999-12-01\n",
       "Name: datetime, Length: 11293, dtype: object"
      ]
     },
     "execution_count": 45,
     "metadata": {},
     "output_type": "execute_result"
    }
   ],
   "source": [
    "df['datetime']"
   ]
  },
  {
   "cell_type": "code",
   "execution_count": 47,
   "id": "abf6907c-b085-44b5-8a91-cb4e595a38e5",
   "metadata": {
    "tags": []
   },
   "outputs": [],
   "source": [
    "df.drop(columns=['severerisk'], inplace=True)"
   ]
  },
  {
   "cell_type": "markdown",
   "id": "3e6aec0c-e252-4b2e-91e5-ad5b5c431d9d",
   "metadata": {},
   "source": [
    "## Removing Redundant Columns "
   ]
  },
  {
   "cell_type": "code",
   "execution_count": 52,
   "id": "4414cad8-1adb-4004-92be-ebc7d79ae3c2",
   "metadata": {
    "tags": []
   },
   "outputs": [
    {
     "data": {
      "text/plain": [
       "array([0. , 0.1, 1.8, 0.2, 0.3, 0.7, 0.8, 1.2, 0.4, 1.7, 2.1, 1.3, 1.1,\n",
       "       0.5, 0.6, 0.9, 2.2, 3.5, 1.5, 1.6, 2.4, 2.3, 1. , 2. , 3.2, 1.9,\n",
       "       5.8, 3. , 2.8, 3.6, 7.2, 4.3, 1.4, 4.1, 2.9, nan])"
      ]
     },
     "execution_count": 52,
     "metadata": {},
     "output_type": "execute_result"
    }
   ],
   "source": [
    "df['snow'].unique()"
   ]
  },
  {
   "cell_type": "markdown",
   "id": "01df84ba-7f35-4b28-afd3-b91614264e30",
   "metadata": {},
   "source": [
    "#### Because df['snow'] describes the amount of new snow fallen over the day and df['snowdepth'] describes the average amount of snow each day, these columns are similar enough where one is only needed. I'm choosing df['snowdepth'] because it provides me with broader information.  "
   ]
  },
  {
   "cell_type": "code",
   "execution_count": 54,
   "id": "87f0ed53-685f-4157-9263-882cef5d98ef",
   "metadata": {
    "tags": []
   },
   "outputs": [],
   "source": [
    "df.drop(columns=['snow'], inplace=True)"
   ]
  },
  {
   "cell_type": "code",
   "execution_count": 53,
   "id": "40057f3a-0791-488c-832f-59252d85b3bd",
   "metadata": {
    "tags": []
   },
   "outputs": [
    {
     "data": {
      "text/plain": [
       "array([ 0. ,  0.1,  0.2,  1.2,  0.8,  0.4,  0.5,  2.1, 12.1,  9.8,  6.8,\n",
       "        2.5,  1. ,  0.7,  0.6,  2. ,  1.1,  0.3,  1.7,  0.9,  3.6,  3.7,\n",
       "        1.9,  1.4,  1.3,  1.6,  2.9,  5.3,  2.4,  1.8,  1.5,  2.2,  2.3,\n",
       "        8.3,  7.4,  3.5,  2.6,  2.8,  5.9,  3.9,  4.7,  2.7,  nan,  4.5,\n",
       "        3.4,  3.2,  9.6,  7.5, 13. ,  8.7,  5.7,  6.7, 11.3, 13.8, 10.6,\n",
       "        9.1,  9.3,  7.1,  5.1,  6.1,  5.5,  6.6,  6.3,  4.3,  3.3,  6. ,\n",
       "        8.9,  7.9,  5.4, 10. ,  4.1,  3.1, 14.4, 17.9, 11.6,  5.2,  3. ,\n",
       "        4.2])"
      ]
     },
     "execution_count": 53,
     "metadata": {},
     "output_type": "execute_result"
    }
   ],
   "source": [
    "df['snowdepth'].unique()"
   ]
  },
  {
   "cell_type": "code",
   "execution_count": null,
   "id": "49fc1d57-6f28-43c5-8b40-2736c793d7bf",
   "metadata": {},
   "outputs": [],
   "source": []
  },
  {
   "cell_type": "code",
   "execution_count": null,
   "id": "03f67efb-d62d-41c6-83e3-f96f8020594e",
   "metadata": {},
   "outputs": [],
   "source": []
  },
  {
   "cell_type": "code",
   "execution_count": null,
   "id": "9af395d7-9f01-42b8-8167-848498e1b4cb",
   "metadata": {},
   "outputs": [],
   "source": []
  }
 ],
 "metadata": {
  "kernelspec": {
   "display_name": "Python 3 (ipykernel)",
   "language": "python",
   "name": "python3"
  },
  "language_info": {
   "codemirror_mode": {
    "name": "ipython",
    "version": 3
   },
   "file_extension": ".py",
   "mimetype": "text/x-python",
   "name": "python",
   "nbconvert_exporter": "python",
   "pygments_lexer": "ipython3",
   "version": "3.11.4"
  }
 },
 "nbformat": 4,
 "nbformat_minor": 5
}
