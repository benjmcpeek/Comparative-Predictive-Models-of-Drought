{
 "cells": [
  {
   "cell_type": "code",
   "execution_count": 4,
   "id": "db627263",
   "metadata": {},
   "outputs": [],
   "source": [
    "import numpy as np\n",
    "import pandas as pd\n",
    "import matplotlib.pyplot as plt\n",
    "import seaborn as sns\n",
    "\n",
    "from pathlib import Path\n",
    "from netCDF4 import Dataset\n",
    "import os\n",
    "import datetime"
   ]
  },
  {
   "cell_type": "markdown",
   "id": "cea7972e",
   "metadata": {},
   "source": [
    "This data is via:</br>\n",
    "https://www.climatologylab.org/wget-terraclimate.html"
   ]
  },
  {
   "cell_type": "code",
   "execution_count": 5,
   "id": "d0ad884a",
   "metadata": {},
   "outputs": [],
   "source": [
    "# specifying a subset of the data can make\n",
    "# running iterations of functions much faster\n",
    "CO_lat = [37, 41]\n",
    "CO_long = [-109, -102]"
   ]
  },
  {
   "cell_type": "markdown",
   "id": "60c1c52f",
   "metadata": {},
   "source": [
    "NASA provides a guide for how to read in and manipulate netCDF4 data:</br>\n",
    "https://www.star.nesdis.noaa.gov/atmospheric-composition-training/python_netcdf4.php"
   ]
  },
  {
   "cell_type": "code",
   "execution_count": 6,
   "id": "bad87020",
   "metadata": {},
   "outputs": [
    {
     "data": {
      "text/plain": [
       "134"
      ]
     },
     "execution_count": 6,
     "metadata": {},
     "output_type": "execute_result"
    }
   ],
   "source": [
    "filepath = '../Data/simple_model/'\n",
    "file_name = os.listdir(filepath)\n",
    "len(file_name)"
   ]
  },
  {
   "cell_type": "markdown",
   "id": "3d582dd8",
   "metadata": {},
   "source": [
    "Each file contains monthly data for one year for one feature. There are 14 features in total, and I selected data for 2010 to the end of 2020, i.e. 11 years, so there should be 154 files here, but . . ."
   ]
  },
  {
   "cell_type": "code",
   "execution_count": 7,
   "id": "0a8b42ba",
   "metadata": {},
   "outputs": [
    {
     "name": "stdout",
     "output_type": "stream",
     "text": [
      "I was only able to download 134 files.\n"
     ]
    }
   ],
   "source": [
    "print(f\"I was only able to download {len(file_name)} files.\")"
   ]
  },
  {
   "cell_type": "markdown",
   "id": "35eb3f9d",
   "metadata": {},
   "source": [
    "Running the scripts provided by the Climatology Lab returns a 302 error for many of the files meant to be downloaded. This is a temporary SSL error, meaning that if I run these scripts many times throughout the week, I'll be able to collect more and more files, as they become available at different times."
   ]
  },
  {
   "cell_type": "markdown",
   "id": "f17af107",
   "metadata": {},
   "source": [
    "I needed to convert the day of the year (i.e. j in terms of datetime variables) into an actual date using the year I extracted from the file name. This StackOverflow post gives a concise explaination:\n",
    "https://stackoverflow.com/questions/2427555/how-to-convert-year-and-day-of-year-to-date</br>"
   ]
  },
  {
   "cell_type": "code",
   "execution_count": 40,
   "id": "1193a7fe",
   "metadata": {},
   "outputs": [],
   "source": [
    "monthly_df = pd.DataFrame()\n",
    "for i in range(len(file_name)):\n",
    "    try:\n",
    "        # complete filepath\n",
    "        file = filepath + file_name[i]\n",
    "        # creating netCDF4 object\n",
    "        file_id = Dataset(file)\n",
    "        # extracting year from file name\n",
    "        year = int(file_name[i][-7:-3])\n",
    "        # name of variable stored within file\n",
    "        file_variable = list(file_id.variables.keys())[-1]\n",
    "        # averaging the entire US's data for each day\n",
    "        var = [file_id.variables[file_variable][c, :, :].data.mean() for c in range(0,12)]\n",
    "        date = [datetime.datetime.strptime(f\"{year} {f}\", '%Y %j')\\\n",
    "                .strftime('%Y-%m-%d') for f in range(1, 13)]\n",
    "\n",
    "        d = {'date': date, f\"{file_variable}\": var}\n",
    "        temp_df = pd.DataFrame(data = d)\n",
    "        monthly_df = pd.concat([monthly_df, temp_df], ignore_index=False)\n",
    "        \n",
    "    except:\n",
    "        f\"{file_id} not found!\"\n",
    "        \n",
    "    monthly_df['date'] = pd.to_datetime(monthly_df['date'])\n",
    "monthly_df = monthly_df.groupby('date').mean()"
   ]
  },
  {
   "cell_type": "code",
   "execution_count": 31,
   "id": "17b22b0c",
   "metadata": {},
   "outputs": [
    {
     "name": "stdout",
     "output_type": "stream",
     "text": [
      "<class 'pandas.core.frame.DataFrame'>\n",
      "DatetimeIndex: 132 entries, 2010-01-01 to 2020-01-12\n",
      "Data columns (total 12 columns):\n",
      " #   Column                                     Non-Null Count  Dtype  \n",
      "---  ------                                     --------------  -----  \n",
      " 0   burning_index_g                            108 non-null    float64\n",
      " 1   potential_evapotranspiration               120 non-null    float64\n",
      " 2   dead_fuel_moisture_1000hr                  108 non-null    float64\n",
      " 3   dead_fuel_moisture_100hr                   96 non-null     float64\n",
      " 4   precipitation_amount                       120 non-null    float64\n",
      " 5   relative_humidity                          120 non-null    float64\n",
      " 6   specific_humidity                          132 non-null    float64\n",
      " 7   surface_downwelling_shortwave_flux_in_air  84 non-null     float64\n",
      " 8   wind_from_direction                        72 non-null     float64\n",
      " 9   air_temperature                            132 non-null    float64\n",
      " 10  mean_vapor_pressure_deficit                84 non-null     float64\n",
      " 11  wind_speed                                 96 non-null     float64\n",
      "dtypes: float64(12)\n",
      "memory usage: 13.4 KB\n"
     ]
    }
   ],
   "source": [
    "monthly_df.info()"
   ]
  },
  {
   "cell_type": "code",
   "execution_count": 32,
   "id": "1e3fc2ff",
   "metadata": {},
   "outputs": [
    {
     "data": {
      "text/html": [
       "<div>\n",
       "<style scoped>\n",
       "    .dataframe tbody tr th:only-of-type {\n",
       "        vertical-align: middle;\n",
       "    }\n",
       "\n",
       "    .dataframe tbody tr th {\n",
       "        vertical-align: top;\n",
       "    }\n",
       "\n",
       "    .dataframe thead th {\n",
       "        text-align: right;\n",
       "    }\n",
       "</style>\n",
       "<table border=\"1\" class=\"dataframe\">\n",
       "  <thead>\n",
       "    <tr style=\"text-align: right;\">\n",
       "      <th></th>\n",
       "      <th>burning_index_g</th>\n",
       "      <th>potential_evapotranspiration</th>\n",
       "      <th>dead_fuel_moisture_1000hr</th>\n",
       "      <th>dead_fuel_moisture_100hr</th>\n",
       "      <th>precipitation_amount</th>\n",
       "      <th>relative_humidity</th>\n",
       "      <th>specific_humidity</th>\n",
       "      <th>surface_downwelling_shortwave_flux_in_air</th>\n",
       "      <th>wind_from_direction</th>\n",
       "      <th>air_temperature</th>\n",
       "      <th>mean_vapor_pressure_deficit</th>\n",
       "      <th>wind_speed</th>\n",
       "    </tr>\n",
       "    <tr>\n",
       "      <th>date</th>\n",
       "      <th></th>\n",
       "      <th></th>\n",
       "      <th></th>\n",
       "      <th></th>\n",
       "      <th></th>\n",
       "      <th></th>\n",
       "      <th></th>\n",
       "      <th></th>\n",
       "      <th></th>\n",
       "      <th></th>\n",
       "      <th></th>\n",
       "      <th></th>\n",
       "    </tr>\n",
       "  </thead>\n",
       "  <tbody>\n",
       "    <tr>\n",
       "      <th>2010-01-01</th>\n",
       "      <td>NaN</td>\n",
       "      <td>32767.0</td>\n",
       "      <td>32767.0</td>\n",
       "      <td>32767.0</td>\n",
       "      <td>32767.0</td>\n",
       "      <td>32767.0</td>\n",
       "      <td>32767.0</td>\n",
       "      <td>32767.0</td>\n",
       "      <td>NaN</td>\n",
       "      <td>32767.0</td>\n",
       "      <td>32767.0</td>\n",
       "      <td>32767.0</td>\n",
       "    </tr>\n",
       "    <tr>\n",
       "      <th>2010-01-02</th>\n",
       "      <td>NaN</td>\n",
       "      <td>32767.0</td>\n",
       "      <td>32767.0</td>\n",
       "      <td>32767.0</td>\n",
       "      <td>32767.0</td>\n",
       "      <td>32767.0</td>\n",
       "      <td>32767.0</td>\n",
       "      <td>32767.0</td>\n",
       "      <td>NaN</td>\n",
       "      <td>32767.0</td>\n",
       "      <td>32767.0</td>\n",
       "      <td>32767.0</td>\n",
       "    </tr>\n",
       "    <tr>\n",
       "      <th>2010-01-03</th>\n",
       "      <td>NaN</td>\n",
       "      <td>32767.0</td>\n",
       "      <td>32767.0</td>\n",
       "      <td>32767.0</td>\n",
       "      <td>32767.0</td>\n",
       "      <td>32767.0</td>\n",
       "      <td>32767.0</td>\n",
       "      <td>32767.0</td>\n",
       "      <td>NaN</td>\n",
       "      <td>32767.0</td>\n",
       "      <td>32767.0</td>\n",
       "      <td>32767.0</td>\n",
       "    </tr>\n",
       "    <tr>\n",
       "      <th>2010-01-04</th>\n",
       "      <td>NaN</td>\n",
       "      <td>32767.0</td>\n",
       "      <td>32767.0</td>\n",
       "      <td>32767.0</td>\n",
       "      <td>32767.0</td>\n",
       "      <td>32767.0</td>\n",
       "      <td>32767.0</td>\n",
       "      <td>32767.0</td>\n",
       "      <td>NaN</td>\n",
       "      <td>32767.0</td>\n",
       "      <td>32767.0</td>\n",
       "      <td>32767.0</td>\n",
       "    </tr>\n",
       "    <tr>\n",
       "      <th>2010-01-05</th>\n",
       "      <td>NaN</td>\n",
       "      <td>32767.0</td>\n",
       "      <td>32767.0</td>\n",
       "      <td>32767.0</td>\n",
       "      <td>32767.0</td>\n",
       "      <td>32767.0</td>\n",
       "      <td>32767.0</td>\n",
       "      <td>32767.0</td>\n",
       "      <td>NaN</td>\n",
       "      <td>32767.0</td>\n",
       "      <td>32767.0</td>\n",
       "      <td>32767.0</td>\n",
       "    </tr>\n",
       "  </tbody>\n",
       "</table>\n",
       "</div>"
      ],
      "text/plain": [
       "            burning_index_g  potential_evapotranspiration  \\\n",
       "date                                                        \n",
       "2010-01-01              NaN                       32767.0   \n",
       "2010-01-02              NaN                       32767.0   \n",
       "2010-01-03              NaN                       32767.0   \n",
       "2010-01-04              NaN                       32767.0   \n",
       "2010-01-05              NaN                       32767.0   \n",
       "\n",
       "            dead_fuel_moisture_1000hr  dead_fuel_moisture_100hr  \\\n",
       "date                                                              \n",
       "2010-01-01                    32767.0                   32767.0   \n",
       "2010-01-02                    32767.0                   32767.0   \n",
       "2010-01-03                    32767.0                   32767.0   \n",
       "2010-01-04                    32767.0                   32767.0   \n",
       "2010-01-05                    32767.0                   32767.0   \n",
       "\n",
       "            precipitation_amount  relative_humidity  specific_humidity  \\\n",
       "date                                                                     \n",
       "2010-01-01               32767.0            32767.0            32767.0   \n",
       "2010-01-02               32767.0            32767.0            32767.0   \n",
       "2010-01-03               32767.0            32767.0            32767.0   \n",
       "2010-01-04               32767.0            32767.0            32767.0   \n",
       "2010-01-05               32767.0            32767.0            32767.0   \n",
       "\n",
       "            surface_downwelling_shortwave_flux_in_air  wind_from_direction  \\\n",
       "date                                                                         \n",
       "2010-01-01                                    32767.0                  NaN   \n",
       "2010-01-02                                    32767.0                  NaN   \n",
       "2010-01-03                                    32767.0                  NaN   \n",
       "2010-01-04                                    32767.0                  NaN   \n",
       "2010-01-05                                    32767.0                  NaN   \n",
       "\n",
       "            air_temperature  mean_vapor_pressure_deficit  wind_speed  \n",
       "date                                                                  \n",
       "2010-01-01          32767.0                      32767.0     32767.0  \n",
       "2010-01-02          32767.0                      32767.0     32767.0  \n",
       "2010-01-03          32767.0                      32767.0     32767.0  \n",
       "2010-01-04          32767.0                      32767.0     32767.0  \n",
       "2010-01-05          32767.0                      32767.0     32767.0  "
      ]
     },
     "execution_count": 32,
     "metadata": {},
     "output_type": "execute_result"
    }
   ],
   "source": [
    "monthly_df.head()"
   ]
  },
  {
   "cell_type": "code",
   "execution_count": 33,
   "id": "e5161aee",
   "metadata": {},
   "outputs": [
    {
     "data": {
      "text/html": [
       "<div>\n",
       "<style scoped>\n",
       "    .dataframe tbody tr th:only-of-type {\n",
       "        vertical-align: middle;\n",
       "    }\n",
       "\n",
       "    .dataframe tbody tr th {\n",
       "        vertical-align: top;\n",
       "    }\n",
       "\n",
       "    .dataframe thead th {\n",
       "        text-align: right;\n",
       "    }\n",
       "</style>\n",
       "<table border=\"1\" class=\"dataframe\">\n",
       "  <thead>\n",
       "    <tr style=\"text-align: right;\">\n",
       "      <th></th>\n",
       "      <th>burning_index_g</th>\n",
       "      <th>potential_evapotranspiration</th>\n",
       "      <th>dead_fuel_moisture_1000hr</th>\n",
       "      <th>dead_fuel_moisture_100hr</th>\n",
       "      <th>precipitation_amount</th>\n",
       "      <th>relative_humidity</th>\n",
       "      <th>specific_humidity</th>\n",
       "      <th>surface_downwelling_shortwave_flux_in_air</th>\n",
       "      <th>wind_from_direction</th>\n",
       "      <th>air_temperature</th>\n",
       "      <th>mean_vapor_pressure_deficit</th>\n",
       "      <th>wind_speed</th>\n",
       "    </tr>\n",
       "    <tr>\n",
       "      <th>date</th>\n",
       "      <th></th>\n",
       "      <th></th>\n",
       "      <th></th>\n",
       "      <th></th>\n",
       "      <th></th>\n",
       "      <th></th>\n",
       "      <th></th>\n",
       "      <th></th>\n",
       "      <th></th>\n",
       "      <th></th>\n",
       "      <th></th>\n",
       "      <th></th>\n",
       "    </tr>\n",
       "  </thead>\n",
       "  <tbody>\n",
       "    <tr>\n",
       "      <th>2020-01-08</th>\n",
       "      <td>32767.0</td>\n",
       "      <td>32767.0</td>\n",
       "      <td>32767.0</td>\n",
       "      <td>32767.0</td>\n",
       "      <td>32767.0</td>\n",
       "      <td>32767.0</td>\n",
       "      <td>32767.0</td>\n",
       "      <td>NaN</td>\n",
       "      <td>NaN</td>\n",
       "      <td>32767.0</td>\n",
       "      <td>NaN</td>\n",
       "      <td>NaN</td>\n",
       "    </tr>\n",
       "    <tr>\n",
       "      <th>2020-01-09</th>\n",
       "      <td>32767.0</td>\n",
       "      <td>32767.0</td>\n",
       "      <td>32767.0</td>\n",
       "      <td>32767.0</td>\n",
       "      <td>32767.0</td>\n",
       "      <td>32767.0</td>\n",
       "      <td>32767.0</td>\n",
       "      <td>NaN</td>\n",
       "      <td>NaN</td>\n",
       "      <td>32767.0</td>\n",
       "      <td>NaN</td>\n",
       "      <td>NaN</td>\n",
       "    </tr>\n",
       "    <tr>\n",
       "      <th>2020-01-10</th>\n",
       "      <td>32767.0</td>\n",
       "      <td>32767.0</td>\n",
       "      <td>32767.0</td>\n",
       "      <td>32767.0</td>\n",
       "      <td>32767.0</td>\n",
       "      <td>32767.0</td>\n",
       "      <td>32767.0</td>\n",
       "      <td>NaN</td>\n",
       "      <td>NaN</td>\n",
       "      <td>32767.0</td>\n",
       "      <td>NaN</td>\n",
       "      <td>NaN</td>\n",
       "    </tr>\n",
       "    <tr>\n",
       "      <th>2020-01-11</th>\n",
       "      <td>32767.0</td>\n",
       "      <td>32767.0</td>\n",
       "      <td>32767.0</td>\n",
       "      <td>32767.0</td>\n",
       "      <td>32767.0</td>\n",
       "      <td>32767.0</td>\n",
       "      <td>32767.0</td>\n",
       "      <td>NaN</td>\n",
       "      <td>NaN</td>\n",
       "      <td>32767.0</td>\n",
       "      <td>NaN</td>\n",
       "      <td>NaN</td>\n",
       "    </tr>\n",
       "    <tr>\n",
       "      <th>2020-01-12</th>\n",
       "      <td>32767.0</td>\n",
       "      <td>32767.0</td>\n",
       "      <td>32767.0</td>\n",
       "      <td>32767.0</td>\n",
       "      <td>32767.0</td>\n",
       "      <td>32767.0</td>\n",
       "      <td>32767.0</td>\n",
       "      <td>NaN</td>\n",
       "      <td>NaN</td>\n",
       "      <td>32767.0</td>\n",
       "      <td>NaN</td>\n",
       "      <td>NaN</td>\n",
       "    </tr>\n",
       "  </tbody>\n",
       "</table>\n",
       "</div>"
      ],
      "text/plain": [
       "            burning_index_g  potential_evapotranspiration  \\\n",
       "date                                                        \n",
       "2020-01-08          32767.0                       32767.0   \n",
       "2020-01-09          32767.0                       32767.0   \n",
       "2020-01-10          32767.0                       32767.0   \n",
       "2020-01-11          32767.0                       32767.0   \n",
       "2020-01-12          32767.0                       32767.0   \n",
       "\n",
       "            dead_fuel_moisture_1000hr  dead_fuel_moisture_100hr  \\\n",
       "date                                                              \n",
       "2020-01-08                    32767.0                   32767.0   \n",
       "2020-01-09                    32767.0                   32767.0   \n",
       "2020-01-10                    32767.0                   32767.0   \n",
       "2020-01-11                    32767.0                   32767.0   \n",
       "2020-01-12                    32767.0                   32767.0   \n",
       "\n",
       "            precipitation_amount  relative_humidity  specific_humidity  \\\n",
       "date                                                                     \n",
       "2020-01-08               32767.0            32767.0            32767.0   \n",
       "2020-01-09               32767.0            32767.0            32767.0   \n",
       "2020-01-10               32767.0            32767.0            32767.0   \n",
       "2020-01-11               32767.0            32767.0            32767.0   \n",
       "2020-01-12               32767.0            32767.0            32767.0   \n",
       "\n",
       "            surface_downwelling_shortwave_flux_in_air  wind_from_direction  \\\n",
       "date                                                                         \n",
       "2020-01-08                                        NaN                  NaN   \n",
       "2020-01-09                                        NaN                  NaN   \n",
       "2020-01-10                                        NaN                  NaN   \n",
       "2020-01-11                                        NaN                  NaN   \n",
       "2020-01-12                                        NaN                  NaN   \n",
       "\n",
       "            air_temperature  mean_vapor_pressure_deficit  wind_speed  \n",
       "date                                                                  \n",
       "2020-01-08          32767.0                          NaN         NaN  \n",
       "2020-01-09          32767.0                          NaN         NaN  \n",
       "2020-01-10          32767.0                          NaN         NaN  \n",
       "2020-01-11          32767.0                          NaN         NaN  \n",
       "2020-01-12          32767.0                          NaN         NaN  "
      ]
     },
     "execution_count": 33,
     "metadata": {},
     "output_type": "execute_result"
    }
   ],
   "source": [
    "monthly_df.tail()"
   ]
  },
  {
   "cell_type": "code",
   "execution_count": 38,
   "id": "d080abde",
   "metadata": {},
   "outputs": [],
   "source": [
    "monthly_df.to_csv(r'../Data/output_csv_files/monthly_df.csv', index_label = False)"
   ]
  },
  {
   "cell_type": "markdown",
   "id": "89acad05",
   "metadata": {},
   "source": [
    "I've learned that it's extremely important to include `parse_dates = True` in order for the dataframe to remain a datetime index. Not doing this will result in a standard index being applied with no warning, which can be annoying."
   ]
  },
  {
   "cell_type": "code",
   "execution_count": 39,
   "id": "d37b86fc",
   "metadata": {},
   "outputs": [
    {
     "name": "stdout",
     "output_type": "stream",
     "text": [
      "<class 'pandas.core.frame.DataFrame'>\n",
      "DatetimeIndex: 132 entries, 2010-01-01 to 2020-01-12\n",
      "Data columns (total 12 columns):\n",
      " #   Column                                     Non-Null Count  Dtype  \n",
      "---  ------                                     --------------  -----  \n",
      " 0   burning_index_g                            108 non-null    float64\n",
      " 1   potential_evapotranspiration               120 non-null    float64\n",
      " 2   dead_fuel_moisture_1000hr                  108 non-null    float64\n",
      " 3   dead_fuel_moisture_100hr                   96 non-null     float64\n",
      " 4   precipitation_amount                       120 non-null    float64\n",
      " 5   relative_humidity                          120 non-null    float64\n",
      " 6   specific_humidity                          132 non-null    float64\n",
      " 7   surface_downwelling_shortwave_flux_in_air  84 non-null     float64\n",
      " 8   wind_from_direction                        72 non-null     float64\n",
      " 9   air_temperature                            132 non-null    float64\n",
      " 10  mean_vapor_pressure_deficit                84 non-null     float64\n",
      " 11  wind_speed                                 96 non-null     float64\n",
      "dtypes: float64(12)\n",
      "memory usage: 13.4 KB\n"
     ]
    }
   ],
   "source": [
    "pd.read_csv(r'../Data/output_csv_files/monthly_df.csv', parse_dates = True).info()"
   ]
  },
  {
   "cell_type": "markdown",
   "id": "e191871f",
   "metadata": {},
   "source": [
    "---------"
   ]
  },
  {
   "cell_type": "markdown",
   "id": "dc3e5efd",
   "metadata": {},
   "source": [
    "Unsuccessful daily model:"
   ]
  },
  {
   "cell_type": "markdown",
   "id": "e5c2600c",
   "metadata": {},
   "source": [
    "The Climatology Lab also had a very interesting dataset containing daily satelite data with a wide array of variables like NDVI (which could help identify peak greenness), PDSI (Palmer Drought Severity Index), and most of the same variables found in the monthly dataset. Unfortunately, the same issue occured with the monthly dataset, i.e. many files were not able to download. In addition, since this is daily satelite data, the amount of data required to make a model going back to the year 1980 ended up being about 30 Gigabytes. Due to the amount of missing data and the difficulty of reliably imputing daily climate data for entire years, this model did not end up being feasable. I originally downloaded, processed and examined data from this source going back to 1990, but the sheer amount of data and the fact that so much was missing led me to delete most of it from my local machine. Here is the work I was able to accomplish, only including data from 2010 to 2021 for the purpose of demonstration."
   ]
  },
  {
   "cell_type": "markdown",
   "id": "dd87452f",
   "metadata": {},
   "source": [
    "I grouped the data by year in order to examine how many files are missing (each file contains data for one year for one feature)"
   ]
  },
  {
   "cell_type": "markdown",
   "id": "c313d7e8",
   "metadata": {},
   "source": [
    "Data via https://www.climatologylab.org/wget-gridmet.html"
   ]
  },
  {
   "cell_type": "code",
   "execution_count": null,
   "id": "dc773f78",
   "metadata": {},
   "outputs": [],
   "source": [
    "df = pd.DataFrame()\n",
    "\n",
    "filepath = '../Data/gridmet/'\n",
    "file_name = os.listdir(filepath)\n",
    "len(file_name)\n",
    "\n",
    "year_df = pd.DataFrame()\n",
    "for i in range(len(file_name)):\n",
    "    # complete filepath\n",
    "    file = filepath + file_name[i]\n",
    "    # creating netCDF4 object\n",
    "    file_id = Dataset(file)\n",
    "    # extracting year from file name\n",
    "    year = int(file_name[i][-7:-3])\n",
    "    # name of variable stored within file\n",
    "    file_variable = list(file_id.variables.keys())[-1]\n",
    "    # averaging the entire US's data for each day\n",
    "    var = [file_id.variables[file_variable][:, :, c].data.mean() for c in range(0,365)]\n",
    "    date = [datetime.datetime.strptime(f\"{year} {f}\", '%Y %j')\\\n",
    "            .strftime('%Y') for f in range(1, 366)]\n",
    "\n",
    "    d = {'date': date, f\"{file_variable}\": var}\n",
    "    temp_df = pd.DataFrame(data = d)\n",
    "\n",
    "    df = pd.concat([df, temp_df], ignore_index=False)\n",
    "year_df = df.groupby('date').mean()\n",
    "\n",
    "year_df.tail()"
   ]
  },
  {
   "cell_type": "markdown",
   "id": "b8cbbe89",
   "metadata": {},
   "source": [
    "The OSError is simply letting me know that the `wget` script I used to download the data is still in the data folder, so there's no need for concern."
   ]
  },
  {
   "cell_type": "code",
   "execution_count": null,
   "id": "112bf459",
   "metadata": {},
   "outputs": [],
   "source": [
    "year_df.head()"
   ]
  },
  {
   "cell_type": "code",
   "execution_count": null,
   "id": "a6a80827",
   "metadata": {},
   "outputs": [],
   "source": [
    "sns.lineplot(year_df['aet'])"
   ]
  }
 ],
 "metadata": {
  "kernelspec": {
   "display_name": "Python 3 (ipykernel)",
   "language": "python",
   "name": "python3"
  },
  "language_info": {
   "codemirror_mode": {
    "name": "ipython",
    "version": 3
   },
   "file_extension": ".py",
   "mimetype": "text/x-python",
   "name": "python",
   "nbconvert_exporter": "python",
   "pygments_lexer": "ipython3",
   "version": "3.8.0"
  }
 },
 "nbformat": 4,
 "nbformat_minor": 5
}
