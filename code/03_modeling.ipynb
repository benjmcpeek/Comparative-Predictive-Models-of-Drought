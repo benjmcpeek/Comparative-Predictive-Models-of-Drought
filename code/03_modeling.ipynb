{
 "cells": [
  {
   "cell_type": "code",
   "execution_count": 8,
   "id": "eff59210-34a8-4510-aafd-379caedf92a5",
   "metadata": {},
   "outputs": [],
   "source": [
    "import numpy as np\n",
    "import pandas as pd\n",
    "import matplotlib.pyplot as plt\n",
    "import seaborn as sns\n",
    "\n",
    "\n",
    "import sktime\n",
    "import statsmodels\n",
    "\n",
    "# importing up front, will remove if not used. Imports via Lesson 9.05\n",
    "import pmdarima\n",
    "from sktime.forecasting.model_selection import temporal_train_test_split\n",
    "from sktime.forecasting.naive import NaiveForecaster\n",
    "from sktime.forecasting.arima import AutoARIMA\n",
    "from sktime.forecasting.ets import AutoETS\n",
    "from sktime.utils.plotting import plot_series"
   ]
  },
  {
   "cell_type": "code",
   "execution_count": 10,
   "id": "a46e0b3f",
   "metadata": {},
   "outputs": [
    {
     "data": {
      "text/html": [
       "<div>\n",
       "<style scoped>\n",
       "    .dataframe tbody tr th:only-of-type {\n",
       "        vertical-align: middle;\n",
       "    }\n",
       "\n",
       "    .dataframe tbody tr th {\n",
       "        vertical-align: top;\n",
       "    }\n",
       "\n",
       "    .dataframe thead th {\n",
       "        text-align: right;\n",
       "    }\n",
       "</style>\n",
       "<table border=\"1\" class=\"dataframe\">\n",
       "  <thead>\n",
       "    <tr style=\"text-align: right;\">\n",
       "      <th></th>\n",
       "      <th>aet</th>\n",
       "      <th>def</th>\n",
       "      <th>pet</th>\n",
       "      <th>ppt</th>\n",
       "      <th>q</th>\n",
       "      <th>soil</th>\n",
       "      <th>srad</th>\n",
       "      <th>swe</th>\n",
       "      <th>tmax</th>\n",
       "    </tr>\n",
       "  </thead>\n",
       "  <tbody>\n",
       "    <tr>\n",
       "      <th>1990-01-01</th>\n",
       "      <td>21771.336575</td>\n",
       "      <td>21773.394642</td>\n",
       "      <td>21779.298679</td>\n",
       "      <td>1.426419e+09</td>\n",
       "      <td>1.426419e+09</td>\n",
       "      <td>21782.174328</td>\n",
       "      <td>21827.981936</td>\n",
       "      <td>1.426420e+09</td>\n",
       "      <td>21764.808181</td>\n",
       "    </tr>\n",
       "    <tr>\n",
       "      <th>1990-01-02</th>\n",
       "      <td>21771.144471</td>\n",
       "      <td>21772.950923</td>\n",
       "      <td>21778.662856</td>\n",
       "      <td>1.426419e+09</td>\n",
       "      <td>1.426419e+09</td>\n",
       "      <td>21782.309110</td>\n",
       "      <td>21817.372051</td>\n",
       "      <td>1.426420e+09</td>\n",
       "      <td>21764.353422</td>\n",
       "    </tr>\n",
       "    <tr>\n",
       "      <th>1990-01-03</th>\n",
       "      <td>21772.491551</td>\n",
       "      <td>21775.550217</td>\n",
       "      <td>21782.609230</td>\n",
       "      <td>1.426419e+09</td>\n",
       "      <td>1.426419e+09</td>\n",
       "      <td>21782.211111</td>\n",
       "      <td>21810.947748</td>\n",
       "      <td>1.426420e+09</td>\n",
       "      <td>21764.802737</td>\n",
       "    </tr>\n",
       "    <tr>\n",
       "      <th>1990-01-04</th>\n",
       "      <td>21774.322645</td>\n",
       "      <td>21775.911386</td>\n",
       "      <td>21784.801493</td>\n",
       "      <td>1.426419e+09</td>\n",
       "      <td>1.426419e+09</td>\n",
       "      <td>21782.707200</td>\n",
       "      <td>21813.346588</td>\n",
       "      <td>1.426420e+09</td>\n",
       "      <td>21765.294871</td>\n",
       "    </tr>\n",
       "    <tr>\n",
       "      <th>1990-01-05</th>\n",
       "      <td>21777.312543</td>\n",
       "      <td>21778.811099</td>\n",
       "      <td>21790.691105</td>\n",
       "      <td>1.426419e+09</td>\n",
       "      <td>1.426419e+09</td>\n",
       "      <td>21782.720816</td>\n",
       "      <td>21818.944024</td>\n",
       "      <td>1.426420e+09</td>\n",
       "      <td>21766.289915</td>\n",
       "    </tr>\n",
       "  </tbody>\n",
       "</table>\n",
       "</div>"
      ],
      "text/plain": [
       "                     aet           def           pet           ppt  \\\n",
       "1990-01-01  21771.336575  21773.394642  21779.298679  1.426419e+09   \n",
       "1990-01-02  21771.144471  21772.950923  21778.662856  1.426419e+09   \n",
       "1990-01-03  21772.491551  21775.550217  21782.609230  1.426419e+09   \n",
       "1990-01-04  21774.322645  21775.911386  21784.801493  1.426419e+09   \n",
       "1990-01-05  21777.312543  21778.811099  21790.691105  1.426419e+09   \n",
       "\n",
       "                       q          soil          srad           swe  \\\n",
       "1990-01-01  1.426419e+09  21782.174328  21827.981936  1.426420e+09   \n",
       "1990-01-02  1.426419e+09  21782.309110  21817.372051  1.426420e+09   \n",
       "1990-01-03  1.426419e+09  21782.211111  21810.947748  1.426420e+09   \n",
       "1990-01-04  1.426419e+09  21782.707200  21813.346588  1.426420e+09   \n",
       "1990-01-05  1.426419e+09  21782.720816  21818.944024  1.426420e+09   \n",
       "\n",
       "                    tmax  \n",
       "1990-01-01  21764.808181  \n",
       "1990-01-02  21764.353422  \n",
       "1990-01-03  21764.802737  \n",
       "1990-01-04  21765.294871  \n",
       "1990-01-05  21766.289915  "
      ]
     },
     "execution_count": 10,
     "metadata": {},
     "output_type": "execute_result"
    }
   ],
   "source": [
    "df = pd.read_csv(r'monthly_df_cleaned.csv')\n",
    "df.head()"
   ]
  },
  {
   "cell_type": "code",
   "execution_count": 11,
   "id": "967c41db",
   "metadata": {},
   "outputs": [
    {
     "name": "stdout",
     "output_type": "stream",
     "text": [
      "<class 'pandas.core.frame.DataFrame'>\n",
      "Index: 396 entries, 1990-01-01 to 2022-01-12\n",
      "Data columns (total 9 columns):\n",
      " #   Column  Non-Null Count  Dtype  \n",
      "---  ------  --------------  -----  \n",
      " 0   aet     396 non-null    float64\n",
      " 1   def     384 non-null    float64\n",
      " 2   pet     384 non-null    float64\n",
      " 3   ppt     396 non-null    float64\n",
      " 4   q       396 non-null    float64\n",
      " 5   soil    396 non-null    float64\n",
      " 6   srad    396 non-null    float64\n",
      " 7   swe     384 non-null    float64\n",
      " 8   tmax    204 non-null    float64\n",
      "dtypes: float64(9)\n",
      "memory usage: 30.9+ KB\n"
     ]
    }
   ],
   "source": [
    "df.info()"
   ]
  },
  {
   "cell_type": "markdown",
   "id": "c9baf68d",
   "metadata": {},
   "source": [
    "I want to try out two different kinds of models: several univariate models (SARIMA, Holt-Winters) for individual features like soil moisture and AET, and some multivariate models since all the features present should be related to one another."
   ]
  },
  {
   "cell_type": "markdown",
   "id": "91681eb9",
   "metadata": {},
   "source": [
    "***Univariate Modeling:***"
   ]
  },
  {
   "cell_type": "markdown",
   "id": "0c95de6e",
   "metadata": {},
   "source": [
    "I'll try modeling soil moisture first."
   ]
  },
  {
   "cell_type": "code",
   "execution_count": null,
   "id": "c993313a",
   "metadata": {},
   "outputs": [],
   "source": []
  }
 ],
 "metadata": {
  "kernelspec": {
   "display_name": "Python 3 (ipykernel)",
   "language": "python",
   "name": "python3"
  },
  "language_info": {
   "codemirror_mode": {
    "name": "ipython",
    "version": 3
   },
   "file_extension": ".py",
   "mimetype": "text/x-python",
   "name": "python",
   "nbconvert_exporter": "python",
   "pygments_lexer": "ipython3",
   "version": "3.8.0"
  }
 },
 "nbformat": 4,
 "nbformat_minor": 5
}
