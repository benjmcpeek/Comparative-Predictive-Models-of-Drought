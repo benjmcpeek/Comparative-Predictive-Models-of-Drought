{
 "cells": [
  {
   "cell_type": "code",
   "execution_count": 2,
   "id": "5a5e3758-83ca-4ff2-9343-4404a7016f1c",
   "metadata": {},
   "outputs": [],
   "source": [
    "import pandas as pd\n",
    "import numpy as np\n",
    "import matplotlib.pyplot as plt\n",
    "import seaborn as sns"
   ]
  },
  {
   "cell_type": "code",
   "execution_count": 3,
   "id": "a07efd84-7b9d-4ba4-a35c-7a0439868426",
   "metadata": {},
   "outputs": [
    {
     "data": {
      "text/html": [
       "<div>\n",
       "<style scoped>\n",
       "    .dataframe tbody tr th:only-of-type {\n",
       "        vertical-align: middle;\n",
       "    }\n",
       "\n",
       "    .dataframe tbody tr th {\n",
       "        vertical-align: top;\n",
       "    }\n",
       "\n",
       "    .dataframe thead th {\n",
       "        text-align: right;\n",
       "    }\n",
       "</style>\n",
       "<table border=\"1\" class=\"dataframe\">\n",
       "  <thead>\n",
       "    <tr style=\"text-align: right;\">\n",
       "      <th></th>\n",
       "      <th>name</th>\n",
       "      <th>datetime</th>\n",
       "      <th>tempmax</th>\n",
       "      <th>tempmin</th>\n",
       "      <th>temp</th>\n",
       "      <th>feelslikemax</th>\n",
       "      <th>feelslikemin</th>\n",
       "      <th>feelslike</th>\n",
       "      <th>dew</th>\n",
       "      <th>humidity</th>\n",
       "      <th>...</th>\n",
       "      <th>solarenergy</th>\n",
       "      <th>uvindex</th>\n",
       "      <th>severerisk</th>\n",
       "      <th>sunrise</th>\n",
       "      <th>sunset</th>\n",
       "      <th>moonphase</th>\n",
       "      <th>conditions</th>\n",
       "      <th>description</th>\n",
       "      <th>icon</th>\n",
       "      <th>stations</th>\n",
       "    </tr>\n",
       "  </thead>\n",
       "  <tbody>\n",
       "    <tr>\n",
       "      <th>0</th>\n",
       "      <td>Colorado</td>\n",
       "      <td>1991-01-01</td>\n",
       "      <td>32.1</td>\n",
       "      <td>32.1</td>\n",
       "      <td>32.1</td>\n",
       "      <td>32.1</td>\n",
       "      <td>32.1</td>\n",
       "      <td>32.1</td>\n",
       "      <td>10.1</td>\n",
       "      <td>39.4</td>\n",
       "      <td>...</td>\n",
       "      <td>NaN</td>\n",
       "      <td>NaN</td>\n",
       "      <td>NaN</td>\n",
       "      <td>1991-01-01T07:21:12</td>\n",
       "      <td>1991-01-01T16:45:56</td>\n",
       "      <td>0.53</td>\n",
       "      <td>Partially cloudy</td>\n",
       "      <td>Partly cloudy throughout the day.</td>\n",
       "      <td>partly-cloudy-day</td>\n",
       "      <td>72469523036</td>\n",
       "    </tr>\n",
       "    <tr>\n",
       "      <th>1</th>\n",
       "      <td>Colorado</td>\n",
       "      <td>1991-01-02</td>\n",
       "      <td>35.0</td>\n",
       "      <td>12.3</td>\n",
       "      <td>24.3</td>\n",
       "      <td>35.0</td>\n",
       "      <td>12.3</td>\n",
       "      <td>22.9</td>\n",
       "      <td>14.9</td>\n",
       "      <td>72.2</td>\n",
       "      <td>...</td>\n",
       "      <td>NaN</td>\n",
       "      <td>NaN</td>\n",
       "      <td>NaN</td>\n",
       "      <td>1991-01-02T07:21:19</td>\n",
       "      <td>1991-01-02T16:46:46</td>\n",
       "      <td>0.57</td>\n",
       "      <td>Partially cloudy</td>\n",
       "      <td>Partly cloudy throughout the day.</td>\n",
       "      <td>partly-cloudy-day</td>\n",
       "      <td>72469523036</td>\n",
       "    </tr>\n",
       "    <tr>\n",
       "      <th>2</th>\n",
       "      <td>Colorado</td>\n",
       "      <td>1991-01-03</td>\n",
       "      <td>18.2</td>\n",
       "      <td>8.3</td>\n",
       "      <td>15.3</td>\n",
       "      <td>18.2</td>\n",
       "      <td>8.3</td>\n",
       "      <td>14.9</td>\n",
       "      <td>14.0</td>\n",
       "      <td>94.6</td>\n",
       "      <td>...</td>\n",
       "      <td>NaN</td>\n",
       "      <td>NaN</td>\n",
       "      <td>NaN</td>\n",
       "      <td>1991-01-03T07:21:24</td>\n",
       "      <td>1991-01-03T16:47:37</td>\n",
       "      <td>0.60</td>\n",
       "      <td>Snow, Overcast</td>\n",
       "      <td>Cloudy skies throughout the day with afternoon...</td>\n",
       "      <td>snow</td>\n",
       "      <td>72469523036</td>\n",
       "    </tr>\n",
       "    <tr>\n",
       "      <th>3</th>\n",
       "      <td>Colorado</td>\n",
       "      <td>1991-01-04</td>\n",
       "      <td>27.2</td>\n",
       "      <td>16.1</td>\n",
       "      <td>21.7</td>\n",
       "      <td>27.2</td>\n",
       "      <td>16.1</td>\n",
       "      <td>21.0</td>\n",
       "      <td>17.4</td>\n",
       "      <td>83.9</td>\n",
       "      <td>...</td>\n",
       "      <td>NaN</td>\n",
       "      <td>NaN</td>\n",
       "      <td>NaN</td>\n",
       "      <td>1991-01-04T07:21:26</td>\n",
       "      <td>1991-01-04T16:48:30</td>\n",
       "      <td>0.63</td>\n",
       "      <td>Partially cloudy</td>\n",
       "      <td>Partly cloudy throughout the day.</td>\n",
       "      <td>partly-cloudy-day</td>\n",
       "      <td>72469523036</td>\n",
       "    </tr>\n",
       "    <tr>\n",
       "      <th>4</th>\n",
       "      <td>Colorado</td>\n",
       "      <td>1991-01-05</td>\n",
       "      <td>44.0</td>\n",
       "      <td>19.1</td>\n",
       "      <td>31.3</td>\n",
       "      <td>38.5</td>\n",
       "      <td>19.1</td>\n",
       "      <td>26.7</td>\n",
       "      <td>18.5</td>\n",
       "      <td>60.9</td>\n",
       "      <td>...</td>\n",
       "      <td>NaN</td>\n",
       "      <td>NaN</td>\n",
       "      <td>NaN</td>\n",
       "      <td>1991-01-05T07:21:27</td>\n",
       "      <td>1991-01-05T16:49:24</td>\n",
       "      <td>0.66</td>\n",
       "      <td>Partially cloudy</td>\n",
       "      <td>Becoming cloudy in the afternoon.</td>\n",
       "      <td>partly-cloudy-day</td>\n",
       "      <td>72469523036</td>\n",
       "    </tr>\n",
       "  </tbody>\n",
       "</table>\n",
       "<p>5 rows × 33 columns</p>\n",
       "</div>"
      ],
      "text/plain": [
       "       name    datetime  tempmax  tempmin  temp  feelslikemax  feelslikemin  \\\n",
       "0  Colorado  1991-01-01     32.1     32.1  32.1          32.1          32.1   \n",
       "1  Colorado  1991-01-02     35.0     12.3  24.3          35.0          12.3   \n",
       "2  Colorado  1991-01-03     18.2      8.3  15.3          18.2           8.3   \n",
       "3  Colorado  1991-01-04     27.2     16.1  21.7          27.2          16.1   \n",
       "4  Colorado  1991-01-05     44.0     19.1  31.3          38.5          19.1   \n",
       "\n",
       "   feelslike   dew  humidity  ...  solarenergy  uvindex  severerisk  \\\n",
       "0       32.1  10.1      39.4  ...          NaN      NaN         NaN   \n",
       "1       22.9  14.9      72.2  ...          NaN      NaN         NaN   \n",
       "2       14.9  14.0      94.6  ...          NaN      NaN         NaN   \n",
       "3       21.0  17.4      83.9  ...          NaN      NaN         NaN   \n",
       "4       26.7  18.5      60.9  ...          NaN      NaN         NaN   \n",
       "\n",
       "               sunrise               sunset  moonphase        conditions  \\\n",
       "0  1991-01-01T07:21:12  1991-01-01T16:45:56       0.53  Partially cloudy   \n",
       "1  1991-01-02T07:21:19  1991-01-02T16:46:46       0.57  Partially cloudy   \n",
       "2  1991-01-03T07:21:24  1991-01-03T16:47:37       0.60    Snow, Overcast   \n",
       "3  1991-01-04T07:21:26  1991-01-04T16:48:30       0.63  Partially cloudy   \n",
       "4  1991-01-05T07:21:27  1991-01-05T16:49:24       0.66  Partially cloudy   \n",
       "\n",
       "                                         description               icon  \\\n",
       "0                  Partly cloudy throughout the day.  partly-cloudy-day   \n",
       "1                  Partly cloudy throughout the day.  partly-cloudy-day   \n",
       "2  Cloudy skies throughout the day with afternoon...               snow   \n",
       "3                  Partly cloudy throughout the day.  partly-cloudy-day   \n",
       "4                  Becoming cloudy in the afternoon.  partly-cloudy-day   \n",
       "\n",
       "      stations  \n",
       "0  72469523036  \n",
       "1  72469523036  \n",
       "2  72469523036  \n",
       "3  72469523036  \n",
       "4  72469523036  \n",
       "\n",
       "[5 rows x 33 columns]"
      ]
     },
     "execution_count": 3,
     "metadata": {},
     "output_type": "execute_result"
    }
   ],
   "source": [
    "col_90s = pd.read_csv('./data/col_1990s.csv')\n",
    "\n",
    "col_90s.head()"
   ]
  },
  {
   "cell_type": "code",
   "execution_count": 4,
   "id": "b224e836-fad0-4acb-98c3-0b0eb1411fda",
   "metadata": {
    "tags": []
   },
   "outputs": [
    {
     "data": {
      "text/plain": [
       "(3257, 33)"
      ]
     },
     "execution_count": 4,
     "metadata": {},
     "output_type": "execute_result"
    }
   ],
   "source": [
    "col_90s.shape"
   ]
  },
  {
   "cell_type": "code",
   "execution_count": 12,
   "id": "b3e81e45-eeab-4b41-a8e5-3d970641dea1",
   "metadata": {
    "tags": []
   },
   "outputs": [
    {
     "data": {
      "text/plain": [
       "Index(['name', 'datetime', 'tempmax', 'tempmin', 'temp', 'feelslikemax',\n",
       "       'feelslikemin', 'feelslike', 'dew', 'humidity', 'precip', 'precipprob',\n",
       "       'precipcover', 'preciptype', 'snow', 'snowdepth', 'windgust',\n",
       "       'windspeed', 'winddir', 'sealevelpressure', 'cloudcover', 'visibility',\n",
       "       'solarradiation', 'solarenergy', 'uvindex', 'severerisk', 'sunrise',\n",
       "       'sunset', 'moonphase', 'conditions', 'description', 'icon', 'stations'],\n",
       "      dtype='object')"
      ]
     },
     "execution_count": 12,
     "metadata": {},
     "output_type": "execute_result"
    }
   ],
   "source": [
    "col_90s.isnull().sum().index"
   ]
  },
  {
   "cell_type": "code",
   "execution_count": 6,
   "id": "a3fdcfca-629b-40e1-95cd-798f4cf8c5b3",
   "metadata": {
    "tags": []
   },
   "outputs": [
    {
     "data": {
      "text/plain": [
       "name                 object\n",
       "datetime             object\n",
       "tempmax             float64\n",
       "tempmin             float64\n",
       "temp                float64\n",
       "feelslikemax        float64\n",
       "feelslikemin        float64\n",
       "feelslike           float64\n",
       "dew                 float64\n",
       "humidity            float64\n",
       "precip              float64\n",
       "precipprob            int64\n",
       "precipcover         float64\n",
       "preciptype           object\n",
       "snow                float64\n",
       "snowdepth           float64\n",
       "windgust            float64\n",
       "windspeed           float64\n",
       "winddir             float64\n",
       "sealevelpressure    float64\n",
       "cloudcover          float64\n",
       "visibility          float64\n",
       "solarradiation      float64\n",
       "solarenergy         float64\n",
       "uvindex             float64\n",
       "severerisk          float64\n",
       "sunrise              object\n",
       "sunset               object\n",
       "moonphase           float64\n",
       "conditions           object\n",
       "description          object\n",
       "icon                 object\n",
       "stations             object\n",
       "dtype: object"
      ]
     },
     "execution_count": 6,
     "metadata": {},
     "output_type": "execute_result"
    }
   ],
   "source": [
    "col_90s.dtypes"
   ]
  },
  {
   "cell_type": "code",
   "execution_count": 7,
   "id": "9c4b372a-99df-4383-8ba0-fef01d155501",
   "metadata": {
    "tags": []
   },
   "outputs": [],
   "source": [
    "col_90s['preciptype'].fillna('neither', inplace = True)"
   ]
  },
  {
   "cell_type": "code",
   "execution_count": 13,
   "id": "2136d9ec-87b4-4055-8e15-eb4a6cc96ca4",
   "metadata": {
    "tags": []
   },
   "outputs": [],
   "source": [
    "col_90s.drop(columns = [col for col in col_90s.columns if col in col_90s.isnull().sum().index], inplace = True)"
   ]
  },
  {
   "cell_type": "code",
   "execution_count": 14,
   "id": "b89d8fb1-beff-4fae-97a1-aaab2894074c",
   "metadata": {
    "tags": []
   },
   "outputs": [
    {
     "data": {
      "text/html": [
       "<div>\n",
       "<style scoped>\n",
       "    .dataframe tbody tr th:only-of-type {\n",
       "        vertical-align: middle;\n",
       "    }\n",
       "\n",
       "    .dataframe tbody tr th {\n",
       "        vertical-align: top;\n",
       "    }\n",
       "\n",
       "    .dataframe thead th {\n",
       "        text-align: right;\n",
       "    }\n",
       "</style>\n",
       "<table border=\"1\" class=\"dataframe\">\n",
       "  <thead>\n",
       "    <tr style=\"text-align: right;\">\n",
       "      <th></th>\n",
       "    </tr>\n",
       "  </thead>\n",
       "  <tbody>\n",
       "    <tr>\n",
       "      <th>0</th>\n",
       "    </tr>\n",
       "    <tr>\n",
       "      <th>1</th>\n",
       "    </tr>\n",
       "    <tr>\n",
       "      <th>2</th>\n",
       "    </tr>\n",
       "    <tr>\n",
       "      <th>3</th>\n",
       "    </tr>\n",
       "    <tr>\n",
       "      <th>4</th>\n",
       "    </tr>\n",
       "    <tr>\n",
       "      <th>...</th>\n",
       "    </tr>\n",
       "    <tr>\n",
       "      <th>3252</th>\n",
       "    </tr>\n",
       "    <tr>\n",
       "      <th>3253</th>\n",
       "    </tr>\n",
       "    <tr>\n",
       "      <th>3254</th>\n",
       "    </tr>\n",
       "    <tr>\n",
       "      <th>3255</th>\n",
       "    </tr>\n",
       "    <tr>\n",
       "      <th>3256</th>\n",
       "    </tr>\n",
       "  </tbody>\n",
       "</table>\n",
       "<p>3257 rows × 0 columns</p>\n",
       "</div>"
      ],
      "text/plain": [
       "Empty DataFrame\n",
       "Columns: []\n",
       "Index: [0, 1, 2, 3, 4, 5, 6, 7, 8, 9, 10, 11, 12, 13, 14, 15, 16, 17, 18, 19, 20, 21, 22, 23, 24, 25, 26, 27, 28, 29, 30, 31, 32, 33, 34, 35, 36, 37, 38, 39, 40, 41, 42, 43, 44, 45, 46, 47, 48, 49, 50, 51, 52, 53, 54, 55, 56, 57, 58, 59, 60, 61, 62, 63, 64, 65, 66, 67, 68, 69, 70, 71, 72, 73, 74, 75, 76, 77, 78, 79, 80, 81, 82, 83, 84, 85, 86, 87, 88, 89, 90, 91, 92, 93, 94, 95, 96, 97, 98, 99, ...]\n",
       "\n",
       "[3257 rows x 0 columns]"
      ]
     },
     "execution_count": 14,
     "metadata": {},
     "output_type": "execute_result"
    }
   ],
   "source": [
    "col_90s"
   ]
  },
  {
   "cell_type": "code",
   "execution_count": null,
   "id": "c0bc7155-38cf-4df0-aa88-48d0aa088ab6",
   "metadata": {},
   "outputs": [],
   "source": []
  }
 ],
 "metadata": {
  "kernelspec": {
   "display_name": "Python [conda env:dsi] *",
   "language": "python",
   "name": "conda-env-dsi-py"
  },
  "language_info": {
   "codemirror_mode": {
    "name": "ipython",
    "version": 3
   },
   "file_extension": ".py",
   "mimetype": "text/x-python",
   "name": "python",
   "nbconvert_exporter": "python",
   "pygments_lexer": "ipython3",
   "version": "3.8.16"
  }
 },
 "nbformat": 4,
 "nbformat_minor": 5
}
